{
  "cells": [
    {
      "cell_type": "markdown",
      "metadata": {
        "papermill": {
          "duration": 0.01683,
          "end_time": "2021-02-16T20:00:06.962132",
          "exception": false,
          "start_time": "2021-02-16T20:00:06.945302",
          "status": "completed"
        },
        "tags": [],
        "id": "dN1Tj5Iiym_-"
      },
      "source": [
        "# Loading Data"
      ]
    },
    {
      "cell_type": "code",
      "execution_count": 2,
      "metadata": {
        "_cell_guid": "b1076dfc-b9ad-4769-8c92-a6c4dae69d19",
        "_uuid": "8f2839f25d086af736a60e9eeb907d3b93b6e0e5",
        "execution": {
          "iopub.execute_input": "2021-02-16T20:00:06.999487Z",
          "iopub.status.busy": "2021-02-16T20:00:06.998872Z",
          "iopub.status.idle": "2021-02-16T20:00:07.012928Z",
          "shell.execute_reply": "2021-02-16T20:00:07.013610Z"
        },
        "papermill": {
          "duration": 0.034197,
          "end_time": "2021-02-16T20:00:07.014006",
          "exception": false,
          "start_time": "2021-02-16T20:00:06.979809",
          "status": "completed"
        },
        "tags": [],
        "id": "mMd4uiwFynAI",
        "colab": {
          "base_uri": "https://localhost:8080/"
        },
        "outputId": "5b094d36-b624-4fc4-8efa-510d44e5f0c6"
      },
      "outputs": [
        {
          "output_type": "stream",
          "name": "stdout",
          "text": [
            "/content/drive/MyDrive/Colab Notebooks/Drug Classification/03. drugclassification-99-score-various-models-eda.ipynb\n",
            "/content/drive/MyDrive/Colab Notebooks/Drug Classification/Untitled document.gdoc\n",
            "/content/drive/MyDrive/Colab Notebooks/Drug Classification/01. drug-classification-with-different-algorithms.ipynb\n",
            "/content/drive/MyDrive/Colab Notebooks/Drug Classification/02. drug-classification-rf-nn.ipynb\n",
            "/content/drive/MyDrive/Colab Notebooks/Drug Classification/Drug Dataset/drug200.csv\n"
          ]
        }
      ],
      "source": [
        "\n",
        "\n",
        "import numpy as np # linear algebra\n",
        "import pandas as pd # data processing, CSV file I/O (e.g. pd.read_csv)\n",
        "\n",
        "\n",
        "\n",
        "import os\n",
        "for dirname, _, filenames in os.walk('/content/drive/MyDrive/Colab Notebooks/Drug Classification'):\n",
        "    for filename in filenames:\n",
        "        print(os.path.join(dirname, filename))\n",
        "\n"
      ]
    },
    {
      "cell_type": "code",
      "execution_count": 3,
      "metadata": {
        "execution": {
          "iopub.execute_input": "2021-02-16T20:00:07.051754Z",
          "iopub.status.busy": "2021-02-16T20:00:07.049760Z",
          "iopub.status.idle": "2021-02-16T20:00:07.068189Z",
          "shell.execute_reply": "2021-02-16T20:00:07.067660Z"
        },
        "papermill": {
          "duration": 0.036749,
          "end_time": "2021-02-16T20:00:07.068344",
          "exception": false,
          "start_time": "2021-02-16T20:00:07.031595",
          "status": "completed"
        },
        "tags": [],
        "id": "5LVTMuo1ynAN"
      },
      "outputs": [],
      "source": [
        "df = pd.read_csv('/content/drive/MyDrive/Colab Notebooks/Drug Classification/Drug Dataset/drug200.csv')"
      ]
    },
    {
      "cell_type": "markdown",
      "metadata": {
        "papermill": {
          "duration": 0.015491,
          "end_time": "2021-02-16T20:00:07.099873",
          "exception": false,
          "start_time": "2021-02-16T20:00:07.084382",
          "status": "completed"
        },
        "tags": [],
        "id": "KuDJ9pKZynAO"
      },
      "source": [
        "# Exploring Data"
      ]
    },
    {
      "cell_type": "code",
      "execution_count": 4,
      "metadata": {
        "execution": {
          "iopub.execute_input": "2021-02-16T20:00:07.144664Z",
          "iopub.status.busy": "2021-02-16T20:00:07.143400Z",
          "iopub.status.idle": "2021-02-16T20:00:07.165705Z",
          "shell.execute_reply": "2021-02-16T20:00:07.165189Z"
        },
        "papermill": {
          "duration": 0.05003,
          "end_time": "2021-02-16T20:00:07.165846",
          "exception": false,
          "start_time": "2021-02-16T20:00:07.115816",
          "status": "completed"
        },
        "tags": [],
        "colab": {
          "base_uri": "https://localhost:8080/",
          "height": 206
        },
        "id": "sqVk9CxJynAP",
        "outputId": "ee08519d-2bf5-42dc-ef1b-36327b243bbe"
      },
      "outputs": [
        {
          "output_type": "execute_result",
          "data": {
            "text/html": [
              "\n",
              "  <div id=\"df-8ad5e5c6-4f10-4b31-9f2b-a616ed351b16\">\n",
              "    <div class=\"colab-df-container\">\n",
              "      <div>\n",
              "<style scoped>\n",
              "    .dataframe tbody tr th:only-of-type {\n",
              "        vertical-align: middle;\n",
              "    }\n",
              "\n",
              "    .dataframe tbody tr th {\n",
              "        vertical-align: top;\n",
              "    }\n",
              "\n",
              "    .dataframe thead th {\n",
              "        text-align: right;\n",
              "    }\n",
              "</style>\n",
              "<table border=\"1\" class=\"dataframe\">\n",
              "  <thead>\n",
              "    <tr style=\"text-align: right;\">\n",
              "      <th></th>\n",
              "      <th>Age</th>\n",
              "      <th>Sex</th>\n",
              "      <th>BP</th>\n",
              "      <th>Cholesterol</th>\n",
              "      <th>Na_to_K</th>\n",
              "      <th>Drug</th>\n",
              "    </tr>\n",
              "  </thead>\n",
              "  <tbody>\n",
              "    <tr>\n",
              "      <th>0</th>\n",
              "      <td>23</td>\n",
              "      <td>F</td>\n",
              "      <td>HIGH</td>\n",
              "      <td>HIGH</td>\n",
              "      <td>25.355</td>\n",
              "      <td>DrugY</td>\n",
              "    </tr>\n",
              "    <tr>\n",
              "      <th>1</th>\n",
              "      <td>47</td>\n",
              "      <td>M</td>\n",
              "      <td>LOW</td>\n",
              "      <td>HIGH</td>\n",
              "      <td>13.093</td>\n",
              "      <td>drugC</td>\n",
              "    </tr>\n",
              "    <tr>\n",
              "      <th>2</th>\n",
              "      <td>47</td>\n",
              "      <td>M</td>\n",
              "      <td>LOW</td>\n",
              "      <td>HIGH</td>\n",
              "      <td>10.114</td>\n",
              "      <td>drugC</td>\n",
              "    </tr>\n",
              "    <tr>\n",
              "      <th>3</th>\n",
              "      <td>28</td>\n",
              "      <td>F</td>\n",
              "      <td>NORMAL</td>\n",
              "      <td>HIGH</td>\n",
              "      <td>7.798</td>\n",
              "      <td>drugX</td>\n",
              "    </tr>\n",
              "    <tr>\n",
              "      <th>4</th>\n",
              "      <td>61</td>\n",
              "      <td>F</td>\n",
              "      <td>LOW</td>\n",
              "      <td>HIGH</td>\n",
              "      <td>18.043</td>\n",
              "      <td>DrugY</td>\n",
              "    </tr>\n",
              "  </tbody>\n",
              "</table>\n",
              "</div>\n",
              "      <button class=\"colab-df-convert\" onclick=\"convertToInteractive('df-8ad5e5c6-4f10-4b31-9f2b-a616ed351b16')\"\n",
              "              title=\"Convert this dataframe to an interactive table.\"\n",
              "              style=\"display:none;\">\n",
              "        \n",
              "  <svg xmlns=\"http://www.w3.org/2000/svg\" height=\"24px\"viewBox=\"0 0 24 24\"\n",
              "       width=\"24px\">\n",
              "    <path d=\"M0 0h24v24H0V0z\" fill=\"none\"/>\n",
              "    <path d=\"M18.56 5.44l.94 2.06.94-2.06 2.06-.94-2.06-.94-.94-2.06-.94 2.06-2.06.94zm-11 1L8.5 8.5l.94-2.06 2.06-.94-2.06-.94L8.5 2.5l-.94 2.06-2.06.94zm10 10l.94 2.06.94-2.06 2.06-.94-2.06-.94-.94-2.06-.94 2.06-2.06.94z\"/><path d=\"M17.41 7.96l-1.37-1.37c-.4-.4-.92-.59-1.43-.59-.52 0-1.04.2-1.43.59L10.3 9.45l-7.72 7.72c-.78.78-.78 2.05 0 2.83L4 21.41c.39.39.9.59 1.41.59.51 0 1.02-.2 1.41-.59l7.78-7.78 2.81-2.81c.8-.78.8-2.07 0-2.86zM5.41 20L4 18.59l7.72-7.72 1.47 1.35L5.41 20z\"/>\n",
              "  </svg>\n",
              "      </button>\n",
              "      \n",
              "  <style>\n",
              "    .colab-df-container {\n",
              "      display:flex;\n",
              "      flex-wrap:wrap;\n",
              "      gap: 12px;\n",
              "    }\n",
              "\n",
              "    .colab-df-convert {\n",
              "      background-color: #E8F0FE;\n",
              "      border: none;\n",
              "      border-radius: 50%;\n",
              "      cursor: pointer;\n",
              "      display: none;\n",
              "      fill: #1967D2;\n",
              "      height: 32px;\n",
              "      padding: 0 0 0 0;\n",
              "      width: 32px;\n",
              "    }\n",
              "\n",
              "    .colab-df-convert:hover {\n",
              "      background-color: #E2EBFA;\n",
              "      box-shadow: 0px 1px 2px rgba(60, 64, 67, 0.3), 0px 1px 3px 1px rgba(60, 64, 67, 0.15);\n",
              "      fill: #174EA6;\n",
              "    }\n",
              "\n",
              "    [theme=dark] .colab-df-convert {\n",
              "      background-color: #3B4455;\n",
              "      fill: #D2E3FC;\n",
              "    }\n",
              "\n",
              "    [theme=dark] .colab-df-convert:hover {\n",
              "      background-color: #434B5C;\n",
              "      box-shadow: 0px 1px 3px 1px rgba(0, 0, 0, 0.15);\n",
              "      filter: drop-shadow(0px 1px 2px rgba(0, 0, 0, 0.3));\n",
              "      fill: #FFFFFF;\n",
              "    }\n",
              "  </style>\n",
              "\n",
              "      <script>\n",
              "        const buttonEl =\n",
              "          document.querySelector('#df-8ad5e5c6-4f10-4b31-9f2b-a616ed351b16 button.colab-df-convert');\n",
              "        buttonEl.style.display =\n",
              "          google.colab.kernel.accessAllowed ? 'block' : 'none';\n",
              "\n",
              "        async function convertToInteractive(key) {\n",
              "          const element = document.querySelector('#df-8ad5e5c6-4f10-4b31-9f2b-a616ed351b16');\n",
              "          const dataTable =\n",
              "            await google.colab.kernel.invokeFunction('convertToInteractive',\n",
              "                                                     [key], {});\n",
              "          if (!dataTable) return;\n",
              "\n",
              "          const docLinkHtml = 'Like what you see? Visit the ' +\n",
              "            '<a target=\"_blank\" href=https://colab.research.google.com/notebooks/data_table.ipynb>data table notebook</a>'\n",
              "            + ' to learn more about interactive tables.';\n",
              "          element.innerHTML = '';\n",
              "          dataTable['output_type'] = 'display_data';\n",
              "          await google.colab.output.renderOutput(dataTable, element);\n",
              "          const docLink = document.createElement('div');\n",
              "          docLink.innerHTML = docLinkHtml;\n",
              "          element.appendChild(docLink);\n",
              "        }\n",
              "      </script>\n",
              "    </div>\n",
              "  </div>\n",
              "  "
            ],
            "text/plain": [
              "   Age Sex      BP Cholesterol  Na_to_K   Drug\n",
              "0   23   F    HIGH        HIGH   25.355  DrugY\n",
              "1   47   M     LOW        HIGH   13.093  drugC\n",
              "2   47   M     LOW        HIGH   10.114  drugC\n",
              "3   28   F  NORMAL        HIGH    7.798  drugX\n",
              "4   61   F     LOW        HIGH   18.043  DrugY"
            ]
          },
          "metadata": {},
          "execution_count": 4
        }
      ],
      "source": [
        "df.head()"
      ]
    },
    {
      "cell_type": "code",
      "execution_count": 5,
      "metadata": {
        "execution": {
          "iopub.execute_input": "2021-02-16T20:00:07.202889Z",
          "iopub.status.busy": "2021-02-16T20:00:07.202352Z",
          "iopub.status.idle": "2021-02-16T20:00:07.207442Z",
          "shell.execute_reply": "2021-02-16T20:00:07.208011Z"
        },
        "papermill": {
          "duration": 0.024679,
          "end_time": "2021-02-16T20:00:07.208161",
          "exception": false,
          "start_time": "2021-02-16T20:00:07.183482",
          "status": "completed"
        },
        "tags": [],
        "colab": {
          "base_uri": "https://localhost:8080/"
        },
        "id": "niYfdANAynAQ",
        "outputId": "28ad661e-0b81-427b-d26d-d4bd7a73a796"
      },
      "outputs": [
        {
          "output_type": "execute_result",
          "data": {
            "text/plain": [
              "(200, 6)"
            ]
          },
          "metadata": {},
          "execution_count": 5
        }
      ],
      "source": [
        "df.shape"
      ]
    },
    {
      "cell_type": "code",
      "execution_count": 6,
      "metadata": {
        "execution": {
          "iopub.execute_input": "2021-02-16T20:00:07.244465Z",
          "iopub.status.busy": "2021-02-16T20:00:07.243920Z",
          "iopub.status.idle": "2021-02-16T20:00:07.249985Z",
          "shell.execute_reply": "2021-02-16T20:00:07.250525Z"
        },
        "papermill": {
          "duration": 0.025837,
          "end_time": "2021-02-16T20:00:07.250679",
          "exception": false,
          "start_time": "2021-02-16T20:00:07.224842",
          "status": "completed"
        },
        "tags": [],
        "colab": {
          "base_uri": "https://localhost:8080/"
        },
        "id": "-JGNM-ltynAS",
        "outputId": "5980ebc9-b43a-48e5-9038-88388abfe776"
      },
      "outputs": [
        {
          "output_type": "execute_result",
          "data": {
            "text/plain": [
              "Age              int64\n",
              "Sex             object\n",
              "BP              object\n",
              "Cholesterol     object\n",
              "Na_to_K        float64\n",
              "Drug            object\n",
              "dtype: object"
            ]
          },
          "metadata": {},
          "execution_count": 6
        }
      ],
      "source": [
        "df.dtypes"
      ]
    },
    {
      "cell_type": "code",
      "execution_count": 7,
      "metadata": {
        "execution": {
          "iopub.execute_input": "2021-02-16T20:00:07.289448Z",
          "iopub.status.busy": "2021-02-16T20:00:07.288745Z",
          "iopub.status.idle": "2021-02-16T20:00:07.295517Z",
          "shell.execute_reply": "2021-02-16T20:00:07.295994Z"
        },
        "papermill": {
          "duration": 0.027428,
          "end_time": "2021-02-16T20:00:07.296154",
          "exception": false,
          "start_time": "2021-02-16T20:00:07.268726",
          "status": "completed"
        },
        "tags": [],
        "colab": {
          "base_uri": "https://localhost:8080/"
        },
        "id": "50QZVtQJynAT",
        "outputId": "595da2c5-9812-4459-c750-990c31bbf5fe"
      },
      "outputs": [
        {
          "output_type": "execute_result",
          "data": {
            "text/plain": [
              "Age            0\n",
              "Sex            0\n",
              "BP             0\n",
              "Cholesterol    0\n",
              "Na_to_K        0\n",
              "Drug           0\n",
              "dtype: int64"
            ]
          },
          "metadata": {},
          "execution_count": 7
        }
      ],
      "source": [
        "df.isnull().sum()"
      ]
    },
    {
      "cell_type": "code",
      "execution_count": 8,
      "metadata": {
        "execution": {
          "iopub.execute_input": "2021-02-16T20:00:07.334771Z",
          "iopub.status.busy": "2021-02-16T20:00:07.334181Z",
          "iopub.status.idle": "2021-02-16T20:00:07.343767Z",
          "shell.execute_reply": "2021-02-16T20:00:07.343189Z"
        },
        "papermill": {
          "duration": 0.029786,
          "end_time": "2021-02-16T20:00:07.343920",
          "exception": false,
          "start_time": "2021-02-16T20:00:07.314134",
          "status": "completed"
        },
        "tags": [],
        "colab": {
          "base_uri": "https://localhost:8080/"
        },
        "id": "h12OZGDKynAU",
        "outputId": "2ce7f90d-f829-4dbe-b063-f8182b4fadf5"
      },
      "outputs": [
        {
          "output_type": "execute_result",
          "data": {
            "text/plain": [
              "HIGH      103\n",
              "NORMAL     97\n",
              "Name: Cholesterol, dtype: int64"
            ]
          },
          "metadata": {},
          "execution_count": 8
        }
      ],
      "source": [
        "df['Cholesterol'].value_counts()"
      ]
    },
    {
      "cell_type": "code",
      "execution_count": 9,
      "metadata": {
        "execution": {
          "iopub.execute_input": "2021-02-16T20:00:07.390258Z",
          "iopub.status.busy": "2021-02-16T20:00:07.389680Z",
          "iopub.status.idle": "2021-02-16T20:00:07.394863Z",
          "shell.execute_reply": "2021-02-16T20:00:07.394412Z"
        },
        "papermill": {
          "duration": 0.031032,
          "end_time": "2021-02-16T20:00:07.394987",
          "exception": false,
          "start_time": "2021-02-16T20:00:07.363955",
          "status": "completed"
        },
        "tags": [],
        "colab": {
          "base_uri": "https://localhost:8080/"
        },
        "id": "Fr1Eh_y9ynAW",
        "outputId": "d62f590f-5f11-4b52-8019-7f82f94b7208"
      },
      "outputs": [
        {
          "output_type": "execute_result",
          "data": {
            "text/plain": [
              "HIGH      77\n",
              "LOW       64\n",
              "NORMAL    59\n",
              "Name: BP, dtype: int64"
            ]
          },
          "metadata": {},
          "execution_count": 9
        }
      ],
      "source": [
        "df['BP'].value_counts()"
      ]
    },
    {
      "cell_type": "code",
      "execution_count": 10,
      "metadata": {
        "execution": {
          "iopub.execute_input": "2021-02-16T20:00:07.438454Z",
          "iopub.status.busy": "2021-02-16T20:00:07.437513Z",
          "iopub.status.idle": "2021-02-16T20:00:07.441268Z",
          "shell.execute_reply": "2021-02-16T20:00:07.441762Z"
        },
        "papermill": {
          "duration": 0.028486,
          "end_time": "2021-02-16T20:00:07.441912",
          "exception": false,
          "start_time": "2021-02-16T20:00:07.413426",
          "status": "completed"
        },
        "tags": [],
        "colab": {
          "base_uri": "https://localhost:8080/"
        },
        "id": "Y7IGoNgOynAX",
        "outputId": "a07b4e95-ce40-4761-ac87-dfadcedfbe18"
      },
      "outputs": [
        {
          "output_type": "execute_result",
          "data": {
            "text/plain": [
              "DrugY    91\n",
              "drugX    54\n",
              "drugA    23\n",
              "drugC    16\n",
              "drugB    16\n",
              "Name: Drug, dtype: int64"
            ]
          },
          "metadata": {},
          "execution_count": 10
        }
      ],
      "source": [
        "df['Drug'].value_counts()   "
      ]
    },
    {
      "cell_type": "markdown",
      "metadata": {
        "papermill": {
          "duration": 0.017941,
          "end_time": "2021-02-16T20:00:07.478036",
          "exception": false,
          "start_time": "2021-02-16T20:00:07.460095",
          "status": "completed"
        },
        "tags": [],
        "id": "6llWkfBTynAY"
      },
      "source": [
        "# Data Visualization\n"
      ]
    },
    {
      "cell_type": "code",
      "execution_count": 11,
      "metadata": {
        "execution": {
          "iopub.execute_input": "2021-02-16T20:00:07.520146Z",
          "iopub.status.busy": "2021-02-16T20:00:07.519586Z",
          "iopub.status.idle": "2021-02-16T20:00:08.654562Z",
          "shell.execute_reply": "2021-02-16T20:00:08.654074Z"
        },
        "papermill": {
          "duration": 1.158365,
          "end_time": "2021-02-16T20:00:08.654724",
          "exception": false,
          "start_time": "2021-02-16T20:00:07.496359",
          "status": "completed"
        },
        "tags": [],
        "colab": {
          "base_uri": "https://localhost:8080/",
          "height": 401
        },
        "id": "g0xN10esynAZ",
        "outputId": "11272a9b-31e9-4b7b-9583-bd95920e1b37"
      },
      "outputs": [
        {
          "output_type": "stream",
          "name": "stderr",
          "text": [
            "/usr/local/lib/python3.7/dist-packages/seaborn/categorical.py:1296: UserWarning: 75.8% of the points cannot be placed; you may want to decrease the size of the markers or use stripplot.\n",
            "  warnings.warn(msg, UserWarning)\n",
            "/usr/local/lib/python3.7/dist-packages/seaborn/categorical.py:1296: UserWarning: 31.2% of the points cannot be placed; you may want to decrease the size of the markers or use stripplot.\n",
            "  warnings.warn(msg, UserWarning)\n",
            "/usr/local/lib/python3.7/dist-packages/seaborn/categorical.py:1296: UserWarning: 59.3% of the points cannot be placed; you may want to decrease the size of the markers or use stripplot.\n",
            "  warnings.warn(msg, UserWarning)\n"
          ]
        },
        {
          "output_type": "execute_result",
          "data": {
            "text/plain": [
              "<matplotlib.axes._subplots.AxesSubplot at 0x7f653430f810>"
            ]
          },
          "metadata": {},
          "execution_count": 11
        },
        {
          "output_type": "display_data",
          "data": {
            "image/png": "[encoded data removed]",
            "text/plain": [
              "<Figure size 432x288 with 1 Axes>"
            ]
          },
          "metadata": {
            "needs_background": "light"
          }
        }
      ],
      "source": [
        "import seaborn as sns\n",
        "sns.swarmplot(data=df,x='Drug',y='Cholesterol')"
      ]
    },
    {
      "cell_type": "code",
      "source": [
        "from google.colab import drive\n",
        "drive.mount('/content/drive')"
      ],
      "metadata": {
        "colab": {
          "base_uri": "https://localhost:8080/"
        },
        "id": "eucHQSUMy--R",
        "outputId": "c3454b43-dbdd-4e03-f693-e54e32bb9403"
      },
      "execution_count": 12,
      "outputs": [
        {
          "output_type": "stream",
          "name": "stdout",
          "text": [
            "Drive already mounted at /content/drive; to attempt to forcibly remount, call drive.mount(\"/content/drive\", force_remount=True).\n"
          ]
        }
      ]
    },
    {
      "cell_type": "code",
      "execution_count": 13,
      "metadata": {
        "execution": {
          "iopub.execute_input": "2021-02-16T20:00:08.701264Z",
          "iopub.status.busy": "2021-02-16T20:00:08.700635Z",
          "iopub.status.idle": "2021-02-16T20:00:08.905275Z",
          "shell.execute_reply": "2021-02-16T20:00:08.904778Z"
        },
        "papermill": {
          "duration": 0.230775,
          "end_time": "2021-02-16T20:00:08.905476",
          "exception": false,
          "start_time": "2021-02-16T20:00:08.674701",
          "status": "completed"
        },
        "tags": [],
        "colab": {
          "base_uri": "https://localhost:8080/",
          "height": 296
        },
        "id": "kktLpxMGynAb",
        "outputId": "ef758a74-1c4a-452a-bb69-f7fc2971c206"
      },
      "outputs": [
        {
          "output_type": "execute_result",
          "data": {
            "text/plain": [
              "<matplotlib.axes._subplots.AxesSubplot at 0x7f652b9fbd50>"
            ]
          },
          "metadata": {},
          "execution_count": 13
        },
        {
          "output_type": "display_data",
          "data": {
            "image/png": "[encoded data removed]",
            "text/plain": [
              "<Figure size 432x288 with 1 Axes>"
            ]
          },
          "metadata": {
            "needs_background": "light"
          }
        }
      ],
      "source": [
        "sns.swarmplot(data=df,x='Drug',y='Age')"
      ]
    },
    {
      "cell_type": "code",
      "execution_count": 14,
      "metadata": {
        "execution": {
          "iopub.execute_input": "2021-02-16T20:00:09.031024Z",
          "iopub.status.busy": "2021-02-16T20:00:08.953828Z",
          "iopub.status.idle": "2021-02-16T20:00:09.303366Z",
          "shell.execute_reply": "2021-02-16T20:00:09.302763Z"
        },
        "papermill": {
          "duration": 0.376583,
          "end_time": "2021-02-16T20:00:09.303528",
          "exception": false,
          "start_time": "2021-02-16T20:00:08.926945",
          "status": "completed"
        },
        "tags": [],
        "colab": {
          "base_uri": "https://localhost:8080/",
          "height": 435
        },
        "id": "ZWMXuaUGynAb",
        "outputId": "565a914c-5575-4309-b826-f68974e616d4"
      },
      "outputs": [
        {
          "output_type": "stream",
          "name": "stderr",
          "text": [
            "/usr/local/lib/python3.7/dist-packages/seaborn/categorical.py:1296: UserWarning: 63.7% of the points cannot be placed; you may want to decrease the size of the markers or use stripplot.\n",
            "  warnings.warn(msg, UserWarning)\n",
            "/usr/local/lib/python3.7/dist-packages/seaborn/categorical.py:1296: UserWarning: 31.2% of the points cannot be placed; you may want to decrease the size of the markers or use stripplot.\n",
            "  warnings.warn(msg, UserWarning)\n",
            "/usr/local/lib/python3.7/dist-packages/seaborn/categorical.py:1296: UserWarning: 59.3% of the points cannot be placed; you may want to decrease the size of the markers or use stripplot.\n",
            "  warnings.warn(msg, UserWarning)\n",
            "/usr/local/lib/python3.7/dist-packages/seaborn/categorical.py:1296: UserWarning: 52.2% of the points cannot be placed; you may want to decrease the size of the markers or use stripplot.\n",
            "  warnings.warn(msg, UserWarning)\n"
          ]
        },
        {
          "output_type": "execute_result",
          "data": {
            "text/plain": [
              "<matplotlib.axes._subplots.AxesSubplot at 0x7f652b530110>"
            ]
          },
          "metadata": {},
          "execution_count": 14
        },
        {
          "output_type": "display_data",
          "data": {
            "image/png": "[encoded data removed]",
            "text/plain": [
              "<Figure size 432x288 with 1 Axes>"
            ]
          },
          "metadata": {
            "needs_background": "light"
          }
        }
      ],
      "source": [
        "sns.swarmplot(data=df,x='Drug',y='BP')"
      ]
    },
    {
      "cell_type": "markdown",
      "metadata": {
        "papermill": {
          "duration": 0.02436,
          "end_time": "2021-02-16T20:00:09.354093",
          "exception": false,
          "start_time": "2021-02-16T20:00:09.329733",
          "status": "completed"
        },
        "tags": [],
        "id": "fIXXDpqaynAc"
      },
      "source": [
        "# Split Data"
      ]
    },
    {
      "cell_type": "code",
      "execution_count": 15,
      "metadata": {
        "execution": {
          "iopub.execute_input": "2021-02-16T20:00:09.409861Z",
          "iopub.status.busy": "2021-02-16T20:00:09.409262Z",
          "iopub.status.idle": "2021-02-16T20:00:09.411159Z",
          "shell.execute_reply": "2021-02-16T20:00:09.411564Z"
        },
        "papermill": {
          "duration": 0.032034,
          "end_time": "2021-02-16T20:00:09.411718",
          "exception": false,
          "start_time": "2021-02-16T20:00:09.379684",
          "status": "completed"
        },
        "tags": [],
        "id": "j84s0rpIynAc"
      },
      "outputs": [],
      "source": [
        "X = df.drop('Drug',axis=1)\n",
        "y = df['Drug']"
      ]
    },
    {
      "cell_type": "code",
      "execution_count": 16,
      "metadata": {
        "execution": {
          "iopub.execute_input": "2021-02-16T20:00:09.465838Z",
          "iopub.status.busy": "2021-02-16T20:00:09.465226Z",
          "iopub.status.idle": "2021-02-16T20:00:09.478492Z",
          "shell.execute_reply": "2021-02-16T20:00:09.478959Z"
        },
        "papermill": {
          "duration": 0.043785,
          "end_time": "2021-02-16T20:00:09.479116",
          "exception": false,
          "start_time": "2021-02-16T20:00:09.435331",
          "status": "completed"
        },
        "tags": [],
        "id": "HQkssNu5ynAd"
      },
      "outputs": [],
      "source": [
        "X = pd.get_dummies(X,['Age','BP','Cholesterol'])\n",
        "y = pd.get_dummies(y,['Drug'])"
      ]
    },
    {
      "cell_type": "code",
      "execution_count": 17,
      "metadata": {
        "execution": {
          "iopub.execute_input": "2021-02-16T20:00:09.535566Z",
          "iopub.status.busy": "2021-02-16T20:00:09.534966Z",
          "iopub.status.idle": "2021-02-16T20:00:09.537566Z",
          "shell.execute_reply": "2021-02-16T20:00:09.537947Z"
        },
        "papermill": {
          "duration": 0.036629,
          "end_time": "2021-02-16T20:00:09.538117",
          "exception": false,
          "start_time": "2021-02-16T20:00:09.501488",
          "status": "completed"
        },
        "tags": [],
        "colab": {
          "base_uri": "https://localhost:8080/",
          "height": 0
        },
        "id": "lGkXWJMjynAe",
        "outputId": "1a0d30d0-d9ee-491e-9f19-008dfe37412e"
      },
      "outputs": [
        {
          "output_type": "execute_result",
          "data": {
            "text/html": [
              "\n",
              "  <div id=\"df-b27ac3ce-c024-4110-aac4-8aa2ed17c5fc\">\n",
              "    <div class=\"colab-df-container\">\n",
              "      <div>\n",
              "<style scoped>\n",
              "    .dataframe tbody tr th:only-of-type {\n",
              "        vertical-align: middle;\n",
              "    }\n",
              "\n",
              "    .dataframe tbody tr th {\n",
              "        vertical-align: top;\n",
              "    }\n",
              "\n",
              "    .dataframe thead th {\n",
              "        text-align: right;\n",
              "    }\n",
              "</style>\n",
              "<table border=\"1\" class=\"dataframe\">\n",
              "  <thead>\n",
              "    <tr style=\"text-align: right;\">\n",
              "      <th></th>\n",
              "      <th>Age</th>\n",
              "      <th>Na_to_K</th>\n",
              "      <th>Age_F</th>\n",
              "      <th>Age_M</th>\n",
              "      <th>BP_HIGH</th>\n",
              "      <th>BP_LOW</th>\n",
              "      <th>BP_NORMAL</th>\n",
              "      <th>Cholesterol_HIGH</th>\n",
              "      <th>Cholesterol_NORMAL</th>\n",
              "    </tr>\n",
              "  </thead>\n",
              "  <tbody>\n",
              "    <tr>\n",
              "      <th>0</th>\n",
              "      <td>23</td>\n",
              "      <td>25.355</td>\n",
              "      <td>1</td>\n",
              "      <td>0</td>\n",
              "      <td>1</td>\n",
              "      <td>0</td>\n",
              "      <td>0</td>\n",
              "      <td>1</td>\n",
              "      <td>0</td>\n",
              "    </tr>\n",
              "    <tr>\n",
              "      <th>1</th>\n",
              "      <td>47</td>\n",
              "      <td>13.093</td>\n",
              "      <td>0</td>\n",
              "      <td>1</td>\n",
              "      <td>0</td>\n",
              "      <td>1</td>\n",
              "      <td>0</td>\n",
              "      <td>1</td>\n",
              "      <td>0</td>\n",
              "    </tr>\n",
              "    <tr>\n",
              "      <th>2</th>\n",
              "      <td>47</td>\n",
              "      <td>10.114</td>\n",
              "      <td>0</td>\n",
              "      <td>1</td>\n",
              "      <td>0</td>\n",
              "      <td>1</td>\n",
              "      <td>0</td>\n",
              "      <td>1</td>\n",
              "      <td>0</td>\n",
              "    </tr>\n",
              "    <tr>\n",
              "      <th>3</th>\n",
              "      <td>28</td>\n",
              "      <td>7.798</td>\n",
              "      <td>1</td>\n",
              "      <td>0</td>\n",
              "      <td>0</td>\n",
              "      <td>0</td>\n",
              "      <td>1</td>\n",
              "      <td>1</td>\n",
              "      <td>0</td>\n",
              "    </tr>\n",
              "    <tr>\n",
              "      <th>4</th>\n",
              "      <td>61</td>\n",
              "      <td>18.043</td>\n",
              "      <td>1</td>\n",
              "      <td>0</td>\n",
              "      <td>0</td>\n",
              "      <td>1</td>\n",
              "      <td>0</td>\n",
              "      <td>1</td>\n",
              "      <td>0</td>\n",
              "    </tr>\n",
              "  </tbody>\n",
              "</table>\n",
              "</div>\n",
              "      <button class=\"colab-df-convert\" onclick=\"convertToInteractive('df-b27ac3ce-c024-4110-aac4-8aa2ed17c5fc')\"\n",
              "              title=\"Convert this dataframe to an interactive table.\"\n",
              "              style=\"display:none;\">\n",
              "        \n",
              "  <svg xmlns=\"http://www.w3.org/2000/svg\" height=\"24px\"viewBox=\"0 0 24 24\"\n",
              "       width=\"24px\">\n",
              "    <path d=\"M0 0h24v24H0V0z\" fill=\"none\"/>\n",
              "    <path d=\"M18.56 5.44l.94 2.06.94-2.06 2.06-.94-2.06-.94-.94-2.06-.94 2.06-2.06.94zm-11 1L8.5 8.5l.94-2.06 2.06-.94-2.06-.94L8.5 2.5l-.94 2.06-2.06.94zm10 10l.94 2.06.94-2.06 2.06-.94-2.06-.94-.94-2.06-.94 2.06-2.06.94z\"/><path d=\"M17.41 7.96l-1.37-1.37c-.4-.4-.92-.59-1.43-.59-.52 0-1.04.2-1.43.59L10.3 9.45l-7.72 7.72c-.78.78-.78 2.05 0 2.83L4 21.41c.39.39.9.59 1.41.59.51 0 1.02-.2 1.41-.59l7.78-7.78 2.81-2.81c.8-.78.8-2.07 0-2.86zM5.41 20L4 18.59l7.72-7.72 1.47 1.35L5.41 20z\"/>\n",
              "  </svg>\n",
              "      </button>\n",
              "      \n",
              "  <style>\n",
              "    .colab-df-container {\n",
              "      display:flex;\n",
              "      flex-wrap:wrap;\n",
              "      gap: 12px;\n",
              "    }\n",
              "\n",
              "    .colab-df-convert {\n",
              "      background-color: #E8F0FE;\n",
              "      border: none;\n",
              "      border-radius: 50%;\n",
              "      cursor: pointer;\n",
              "      display: none;\n",
              "      fill: #1967D2;\n",
              "      height: 32px;\n",
              "      padding: 0 0 0 0;\n",
              "      width: 32px;\n",
              "    }\n",
              "\n",
              "    .colab-df-convert:hover {\n",
              "      background-color: #E2EBFA;\n",
              "      box-shadow: 0px 1px 2px rgba(60, 64, 67, 0.3), 0px 1px 3px 1px rgba(60, 64, 67, 0.15);\n",
              "      fill: #174EA6;\n",
              "    }\n",
              "\n",
              "    [theme=dark] .colab-df-convert {\n",
              "      background-color: #3B4455;\n",
              "      fill: #D2E3FC;\n",
              "    }\n",
              "\n",
              "    [theme=dark] .colab-df-convert:hover {\n",
              "      background-color: #434B5C;\n",
              "      box-shadow: 0px 1px 3px 1px rgba(0, 0, 0, 0.15);\n",
              "      filter: drop-shadow(0px 1px 2px rgba(0, 0, 0, 0.3));\n",
              "      fill: #FFFFFF;\n",
              "    }\n",
              "  </style>\n",
              "\n",
              "      <script>\n",
              "        const buttonEl =\n",
              "          document.querySelector('#df-b27ac3ce-c024-4110-aac4-8aa2ed17c5fc button.colab-df-convert');\n",
              "        buttonEl.style.display =\n",
              "          google.colab.kernel.accessAllowed ? 'block' : 'none';\n",
              "\n",
              "        async function convertToInteractive(key) {\n",
              "          const element = document.querySelector('#df-b27ac3ce-c024-4110-aac4-8aa2ed17c5fc');\n",
              "          const dataTable =\n",
              "            await google.colab.kernel.invokeFunction('convertToInteractive',\n",
              "                                                     [key], {});\n",
              "          if (!dataTable) return;\n",
              "\n",
              "          const docLinkHtml = 'Like what you see? Visit the ' +\n",
              "            '<a target=\"_blank\" href=https://colab.research.google.com/notebooks/data_table.ipynb>data table notebook</a>'\n",
              "            + ' to learn more about interactive tables.';\n",
              "          element.innerHTML = '';\n",
              "          dataTable['output_type'] = 'display_data';\n",
              "          await google.colab.output.renderOutput(dataTable, element);\n",
              "          const docLink = document.createElement('div');\n",
              "          docLink.innerHTML = docLinkHtml;\n",
              "          element.appendChild(docLink);\n",
              "        }\n",
              "      </script>\n",
              "    </div>\n",
              "  </div>\n",
              "  "
            ],
            "text/plain": [
              "   Age  Na_to_K  Age_F  ...  BP_NORMAL  Cholesterol_HIGH  Cholesterol_NORMAL\n",
              "0   23   25.355      1  ...          0                 1                   0\n",
              "1   47   13.093      0  ...          0                 1                   0\n",
              "2   47   10.114      0  ...          0                 1                   0\n",
              "3   28    7.798      1  ...          1                 1                   0\n",
              "4   61   18.043      1  ...          0                 1                   0\n",
              "\n",
              "[5 rows x 9 columns]"
            ]
          },
          "metadata": {},
          "execution_count": 17
        }
      ],
      "source": [
        "X.head()"
      ]
    },
    {
      "cell_type": "code",
      "execution_count": 18,
      "metadata": {
        "execution": {
          "iopub.execute_input": "2021-02-16T20:00:09.585999Z",
          "iopub.status.busy": "2021-02-16T20:00:09.585403Z",
          "iopub.status.idle": "2021-02-16T20:00:09.593246Z",
          "shell.execute_reply": "2021-02-16T20:00:09.593692Z"
        },
        "papermill": {
          "duration": 0.033162,
          "end_time": "2021-02-16T20:00:09.593840",
          "exception": false,
          "start_time": "2021-02-16T20:00:09.560678",
          "status": "completed"
        },
        "tags": [],
        "colab": {
          "base_uri": "https://localhost:8080/",
          "height": 0
        },
        "id": "bbc2Lsr3ynAe",
        "outputId": "0d61785e-b035-44ac-8b99-a9688d9e853c"
      },
      "outputs": [
        {
          "output_type": "execute_result",
          "data": {
            "text/html": [
              "\n",
              "  <div id=\"df-9bd9a9e4-7b89-4b5f-be14-e12b32723dce\">\n",
              "    <div class=\"colab-df-container\">\n",
              "      <div>\n",
              "<style scoped>\n",
              "    .dataframe tbody tr th:only-of-type {\n",
              "        vertical-align: middle;\n",
              "    }\n",
              "\n",
              "    .dataframe tbody tr th {\n",
              "        vertical-align: top;\n",
              "    }\n",
              "\n",
              "    .dataframe thead th {\n",
              "        text-align: right;\n",
              "    }\n",
              "</style>\n",
              "<table border=\"1\" class=\"dataframe\">\n",
              "  <thead>\n",
              "    <tr style=\"text-align: right;\">\n",
              "      <th></th>\n",
              "      <th>['Drug']_DrugY</th>\n",
              "      <th>['Drug']_drugA</th>\n",
              "      <th>['Drug']_drugB</th>\n",
              "      <th>['Drug']_drugC</th>\n",
              "      <th>['Drug']_drugX</th>\n",
              "    </tr>\n",
              "  </thead>\n",
              "  <tbody>\n",
              "    <tr>\n",
              "      <th>0</th>\n",
              "      <td>1</td>\n",
              "      <td>0</td>\n",
              "      <td>0</td>\n",
              "      <td>0</td>\n",
              "      <td>0</td>\n",
              "    </tr>\n",
              "    <tr>\n",
              "      <th>1</th>\n",
              "      <td>0</td>\n",
              "      <td>0</td>\n",
              "      <td>0</td>\n",
              "      <td>1</td>\n",
              "      <td>0</td>\n",
              "    </tr>\n",
              "    <tr>\n",
              "      <th>2</th>\n",
              "      <td>0</td>\n",
              "      <td>0</td>\n",
              "      <td>0</td>\n",
              "      <td>1</td>\n",
              "      <td>0</td>\n",
              "    </tr>\n",
              "    <tr>\n",
              "      <th>3</th>\n",
              "      <td>0</td>\n",
              "      <td>0</td>\n",
              "      <td>0</td>\n",
              "      <td>0</td>\n",
              "      <td>1</td>\n",
              "    </tr>\n",
              "    <tr>\n",
              "      <th>4</th>\n",
              "      <td>1</td>\n",
              "      <td>0</td>\n",
              "      <td>0</td>\n",
              "      <td>0</td>\n",
              "      <td>0</td>\n",
              "    </tr>\n",
              "  </tbody>\n",
              "</table>\n",
              "</div>\n",
              "      <button class=\"colab-df-convert\" onclick=\"convertToInteractive('df-9bd9a9e4-7b89-4b5f-be14-e12b32723dce')\"\n",
              "              title=\"Convert this dataframe to an interactive table.\"\n",
              "              style=\"display:none;\">\n",
              "        \n",
              "  <svg xmlns=\"http://www.w3.org/2000/svg\" height=\"24px\"viewBox=\"0 0 24 24\"\n",
              "       width=\"24px\">\n",
              "    <path d=\"M0 0h24v24H0V0z\" fill=\"none\"/>\n",
              "    <path d=\"M18.56 5.44l.94 2.06.94-2.06 2.06-.94-2.06-.94-.94-2.06-.94 2.06-2.06.94zm-11 1L8.5 8.5l.94-2.06 2.06-.94-2.06-.94L8.5 2.5l-.94 2.06-2.06.94zm10 10l.94 2.06.94-2.06 2.06-.94-2.06-.94-.94-2.06-.94 2.06-2.06.94z\"/><path d=\"M17.41 7.96l-1.37-1.37c-.4-.4-.92-.59-1.43-.59-.52 0-1.04.2-1.43.59L10.3 9.45l-7.72 7.72c-.78.78-.78 2.05 0 2.83L4 21.41c.39.39.9.59 1.41.59.51 0 1.02-.2 1.41-.59l7.78-7.78 2.81-2.81c.8-.78.8-2.07 0-2.86zM5.41 20L4 18.59l7.72-7.72 1.47 1.35L5.41 20z\"/>\n",
              "  </svg>\n",
              "      </button>\n",
              "      \n",
              "  <style>\n",
              "    .colab-df-container {\n",
              "      display:flex;\n",
              "      flex-wrap:wrap;\n",
              "      gap: 12px;\n",
              "    }\n",
              "\n",
              "    .colab-df-convert {\n",
              "      background-color: #E8F0FE;\n",
              "      border: none;\n",
              "      border-radius: 50%;\n",
              "      cursor: pointer;\n",
              "      display: none;\n",
              "      fill: #1967D2;\n",
              "      height: 32px;\n",
              "      padding: 0 0 0 0;\n",
              "      width: 32px;\n",
              "    }\n",
              "\n",
              "    .colab-df-convert:hover {\n",
              "      background-color: #E2EBFA;\n",
              "      box-shadow: 0px 1px 2px rgba(60, 64, 67, 0.3), 0px 1px 3px 1px rgba(60, 64, 67, 0.15);\n",
              "      fill: #174EA6;\n",
              "    }\n",
              "\n",
              "    [theme=dark] .colab-df-convert {\n",
              "      background-color: #3B4455;\n",
              "      fill: #D2E3FC;\n",
              "    }\n",
              "\n",
              "    [theme=dark] .colab-df-convert:hover {\n",
              "      background-color: #434B5C;\n",
              "      box-shadow: 0px 1px 3px 1px rgba(0, 0, 0, 0.15);\n",
              "      filter: drop-shadow(0px 1px 2px rgba(0, 0, 0, 0.3));\n",
              "      fill: #FFFFFF;\n",
              "    }\n",
              "  </style>\n",
              "\n",
              "      <script>\n",
              "        const buttonEl =\n",
              "          document.querySelector('#df-9bd9a9e4-7b89-4b5f-be14-e12b32723dce button.colab-df-convert');\n",
              "        buttonEl.style.display =\n",
              "          google.colab.kernel.accessAllowed ? 'block' : 'none';\n",
              "\n",
              "        async function convertToInteractive(key) {\n",
              "          const element = document.querySelector('#df-9bd9a9e4-7b89-4b5f-be14-e12b32723dce');\n",
              "          const dataTable =\n",
              "            await google.colab.kernel.invokeFunction('convertToInteractive',\n",
              "                                                     [key], {});\n",
              "          if (!dataTable) return;\n",
              "\n",
              "          const docLinkHtml = 'Like what you see? Visit the ' +\n",
              "            '<a target=\"_blank\" href=https://colab.research.google.com/notebooks/data_table.ipynb>data table notebook</a>'\n",
              "            + ' to learn more about interactive tables.';\n",
              "          element.innerHTML = '';\n",
              "          dataTable['output_type'] = 'display_data';\n",
              "          await google.colab.output.renderOutput(dataTable, element);\n",
              "          const docLink = document.createElement('div');\n",
              "          docLink.innerHTML = docLinkHtml;\n",
              "          element.appendChild(docLink);\n",
              "        }\n",
              "      </script>\n",
              "    </div>\n",
              "  </div>\n",
              "  "
            ],
            "text/plain": [
              "   ['Drug']_DrugY  ['Drug']_drugA  ...  ['Drug']_drugC  ['Drug']_drugX\n",
              "0               1               0  ...               0               0\n",
              "1               0               0  ...               1               0\n",
              "2               0               0  ...               1               0\n",
              "3               0               0  ...               0               1\n",
              "4               1               0  ...               0               0\n",
              "\n",
              "[5 rows x 5 columns]"
            ]
          },
          "metadata": {},
          "execution_count": 18
        }
      ],
      "source": [
        "y.head()"
      ]
    },
    {
      "cell_type": "code",
      "execution_count": 19,
      "metadata": {
        "execution": {
          "iopub.execute_input": "2021-02-16T20:00:09.643021Z",
          "iopub.status.busy": "2021-02-16T20:00:09.642406Z",
          "iopub.status.idle": "2021-02-16T20:00:09.868268Z",
          "shell.execute_reply": "2021-02-16T20:00:09.867716Z"
        },
        "papermill": {
          "duration": 0.251633,
          "end_time": "2021-02-16T20:00:09.868439",
          "exception": false,
          "start_time": "2021-02-16T20:00:09.616806",
          "status": "completed"
        },
        "tags": [],
        "id": "QaHm_cYfynAf"
      },
      "outputs": [],
      "source": [
        "from sklearn.model_selection import train_test_split\n",
        "X_train, X_test, y_train, y_test = train_test_split(X, y, test_size = 0.33, random_state = 42)"
      ]
    },
    {
      "cell_type": "markdown",
      "metadata": {
        "papermill": {
          "duration": 0.023097,
          "end_time": "2021-02-16T20:00:09.914891",
          "exception": false,
          "start_time": "2021-02-16T20:00:09.891794",
          "status": "completed"
        },
        "tags": [],
        "id": "YEH1aDrqynAg"
      },
      "source": [
        "# Building Model 1 -> RF"
      ]
    },
    {
      "cell_type": "code",
      "execution_count": 20,
      "metadata": {
        "execution": {
          "iopub.execute_input": "2021-02-16T20:00:09.966986Z",
          "iopub.status.busy": "2021-02-16T20:00:09.966406Z",
          "iopub.status.idle": "2021-02-16T20:00:10.188091Z",
          "shell.execute_reply": "2021-02-16T20:00:10.187520Z"
        },
        "papermill": {
          "duration": 0.249281,
          "end_time": "2021-02-16T20:00:10.188228",
          "exception": false,
          "start_time": "2021-02-16T20:00:09.938947",
          "status": "completed"
        },
        "tags": [],
        "colab": {
          "base_uri": "https://localhost:8080/"
        },
        "id": "Ozu4iVXRynAg",
        "outputId": "2e1af086-8fc4-4b05-e609-954e5541b685"
      },
      "outputs": [
        {
          "output_type": "execute_result",
          "data": {
            "text/plain": [
              "RandomForestClassifier(criterion='entropy', n_estimators=10, random_state=42)"
            ]
          },
          "metadata": {},
          "execution_count": 20
        }
      ],
      "source": [
        "from sklearn.ensemble import RandomForestClassifier\n",
        "model_1 = RandomForestClassifier(n_estimators = 10, criterion = 'entropy', random_state = 42)\n",
        "model_1.fit(X_train, y_train)"
      ]
    },
    {
      "cell_type": "code",
      "execution_count": 21,
      "metadata": {
        "execution": {
          "iopub.execute_input": "2021-02-16T20:00:10.242268Z",
          "iopub.status.busy": "2021-02-16T20:00:10.241739Z",
          "iopub.status.idle": "2021-02-16T20:00:10.245849Z",
          "shell.execute_reply": "2021-02-16T20:00:10.246441Z"
        },
        "papermill": {
          "duration": 0.034388,
          "end_time": "2021-02-16T20:00:10.246600",
          "exception": false,
          "start_time": "2021-02-16T20:00:10.212212",
          "status": "completed"
        },
        "tags": [],
        "id": "iTNolugyynAh"
      },
      "outputs": [],
      "source": [
        "y_pred = model_1.predict(X_test)"
      ]
    },
    {
      "cell_type": "code",
      "execution_count": 22,
      "metadata": {
        "execution": {
          "iopub.execute_input": "2021-02-16T20:00:10.297154Z",
          "iopub.status.busy": "2021-02-16T20:00:10.296630Z",
          "iopub.status.idle": "2021-02-16T20:00:10.299800Z",
          "shell.execute_reply": "2021-02-16T20:00:10.300243Z"
        },
        "papermill": {
          "duration": 0.030237,
          "end_time": "2021-02-16T20:00:10.300405",
          "exception": false,
          "start_time": "2021-02-16T20:00:10.270168",
          "status": "completed"
        },
        "tags": [],
        "id": "ZYuHXYkZynAi"
      },
      "outputs": [],
      "source": [
        "from sklearn.metrics import accuracy_score"
      ]
    },
    {
      "cell_type": "code",
      "execution_count": 23,
      "metadata": {
        "execution": {
          "iopub.execute_input": "2021-02-16T20:00:10.351667Z",
          "iopub.status.busy": "2021-02-16T20:00:10.351026Z",
          "iopub.status.idle": "2021-02-16T20:00:10.362710Z",
          "shell.execute_reply": "2021-02-16T20:00:10.363204Z"
        },
        "papermill": {
          "duration": 0.039137,
          "end_time": "2021-02-16T20:00:10.363428",
          "exception": false,
          "start_time": "2021-02-16T20:00:10.324291",
          "status": "completed"
        },
        "tags": [],
        "colab": {
          "base_uri": "https://localhost:8080/"
        },
        "id": "wUPJ9ylEynAi",
        "outputId": "8958a963-677b-425e-e47a-4df59ccbdea3"
      },
      "outputs": [
        {
          "output_type": "execute_result",
          "data": {
            "text/plain": [
              "1.0"
            ]
          },
          "metadata": {},
          "execution_count": 23
        }
      ],
      "source": [
        "accuracy_score(y_test,y_pred)"
      ]
    },
    {
      "cell_type": "markdown",
      "metadata": {
        "papermill": {
          "duration": 0.024436,
          "end_time": "2021-02-16T20:00:10.411865",
          "exception": false,
          "start_time": "2021-02-16T20:00:10.387429",
          "status": "completed"
        },
        "tags": [],
        "id": "Vv5ZJSk3ynAi"
      },
      "source": [
        "# Building Model 2 -> NN"
      ]
    },
    {
      "cell_type": "code",
      "execution_count": 24,
      "metadata": {
        "execution": {
          "iopub.execute_input": "2021-02-16T20:00:10.468101Z",
          "iopub.status.busy": "2021-02-16T20:00:10.467544Z",
          "iopub.status.idle": "2021-02-16T20:00:16.071903Z",
          "shell.execute_reply": "2021-02-16T20:00:16.072448Z"
        },
        "papermill": {
          "duration": 5.631521,
          "end_time": "2021-02-16T20:00:16.072635",
          "exception": false,
          "start_time": "2021-02-16T20:00:10.441114",
          "status": "completed"
        },
        "tags": [],
        "id": "sSdEz60eynAi"
      },
      "outputs": [],
      "source": [
        "import tensorflow as tf\n",
        "from tensorflow.keras.models import Sequential\n",
        "from tensorflow.keras.layers import Dense, Activation,Dropout ,Flatten\n",
        "from tensorflow.keras.layers.experimental.preprocessing import Normalization"
      ]
    },
    {
      "cell_type": "code",
      "execution_count": 25,
      "metadata": {
        "execution": {
          "iopub.execute_input": "2021-02-16T20:00:16.126612Z",
          "iopub.status.busy": "2021-02-16T20:00:16.125998Z",
          "iopub.status.idle": "2021-02-16T20:00:16.147918Z",
          "shell.execute_reply": "2021-02-16T20:00:16.148415Z"
        },
        "papermill": {
          "duration": 0.050381,
          "end_time": "2021-02-16T20:00:16.148581",
          "exception": false,
          "start_time": "2021-02-16T20:00:16.098200",
          "status": "completed"
        },
        "tags": [],
        "id": "GGeGq8NRynAj"
      },
      "outputs": [],
      "source": [
        "normalize = Normalization()"
      ]
    },
    {
      "cell_type": "code",
      "execution_count": 26,
      "metadata": {
        "execution": {
          "iopub.execute_input": "2021-02-16T20:00:16.202789Z",
          "iopub.status.busy": "2021-02-16T20:00:16.202178Z",
          "iopub.status.idle": "2021-02-16T20:00:16.253210Z",
          "shell.execute_reply": "2021-02-16T20:00:16.253640Z"
        },
        "papermill": {
          "duration": 0.079543,
          "end_time": "2021-02-16T20:00:16.253821",
          "exception": false,
          "start_time": "2021-02-16T20:00:16.174278",
          "status": "completed"
        },
        "tags": [],
        "id": "XYgoM0J0ynAj"
      },
      "outputs": [],
      "source": [
        "model_2 = Sequential([\n",
        "    normalize,\n",
        "    Flatten(input_shape=(9,)),\n",
        "    Dense(32, activation='tanh'),\n",
        "    Dropout(0.5),\n",
        "    Dense(5, activation='sigmoid'),\n",
        "])\n",
        "\n",
        "model_2.compile(loss='categorical_crossentropy', optimizer='adam',metrics=['accuracy'])\n"
      ]
    },
    {
      "cell_type": "code",
      "execution_count": 27,
      "metadata": {
        "execution": {
          "iopub.execute_input": "2021-02-16T20:00:16.309026Z",
          "iopub.status.busy": "2021-02-16T20:00:16.308436Z",
          "iopub.status.idle": "2021-02-16T20:00:16.311050Z",
          "shell.execute_reply": "2021-02-16T20:00:16.311601Z"
        },
        "papermill": {
          "duration": 0.032931,
          "end_time": "2021-02-16T20:00:16.311755",
          "exception": false,
          "start_time": "2021-02-16T20:00:16.278824",
          "status": "completed"
        },
        "tags": [],
        "id": "Kqg5zWowynAk"
      },
      "outputs": [],
      "source": [
        "from tensorflow.keras.callbacks import EarlyStopping\n",
        "early_stop = EarlyStopping(monitor='val_loss', mode='min', patience=10,restore_best_weights=True)"
      ]
    },
    {
      "cell_type": "code",
      "execution_count": 28,
      "metadata": {
        "execution": {
          "iopub.execute_input": "2021-02-16T20:00:16.369302Z",
          "iopub.status.busy": "2021-02-16T20:00:16.368629Z",
          "iopub.status.idle": "2021-02-16T20:00:33.714123Z",
          "shell.execute_reply": "2021-02-16T20:00:33.713271Z"
        },
        "papermill": {
          "duration": 17.376494,
          "end_time": "2021-02-16T20:00:33.714261",
          "exception": false,
          "start_time": "2021-02-16T20:00:16.337767",
          "status": "completed"
        },
        "tags": [],
        "colab": {
          "base_uri": "https://localhost:8080/"
        },
        "id": "pezI4406ynAk",
        "outputId": "54cc4a77-76ff-4a82-f9b6-93181c2b604d"
      },
      "outputs": [
        {
          "output_type": "stream",
          "name": "stdout",
          "text": [
            "Epoch 1/1000\n",
            "14/14 [==============================] - 1s 17ms/step - loss: 2.3233 - accuracy: 0.2761 - val_loss: 1.8982 - val_accuracy: 0.4394\n",
            "Epoch 2/1000\n",
            "14/14 [==============================] - 0s 4ms/step - loss: 2.0680 - accuracy: 0.3209 - val_loss: 1.7273 - val_accuracy: 0.4394\n",
            "Epoch 3/1000\n",
            "14/14 [==============================] - 0s 3ms/step - loss: 2.0404 - accuracy: 0.3060 - val_loss: 1.5796 - val_accuracy: 0.4394\n",
            "Epoch 4/1000\n",
            "14/14 [==============================] - 0s 4ms/step - loss: 2.0739 - accuracy: 0.2836 - val_loss: 1.4796 - val_accuracy: 0.4394\n",
            "Epoch 5/1000\n",
            "14/14 [==============================] - 0s 3ms/step - loss: 1.8599 - accuracy: 0.3284 - val_loss: 1.3830 - val_accuracy: 0.4394\n",
            "Epoch 6/1000\n",
            "14/14 [==============================] - 0s 4ms/step - loss: 1.7012 - accuracy: 0.3433 - val_loss: 1.3313 - val_accuracy: 0.4394\n",
            "Epoch 7/1000\n",
            "14/14 [==============================] - 0s 14ms/step - loss: 1.8227 - accuracy: 0.3433 - val_loss: 1.2873 - val_accuracy: 0.4394\n",
            "Epoch 8/1000\n",
            "14/14 [==============================] - 0s 4ms/step - loss: 1.4660 - accuracy: 0.4104 - val_loss: 1.2678 - val_accuracy: 0.4394\n",
            "Epoch 9/1000\n",
            "14/14 [==============================] - 0s 4ms/step - loss: 1.8109 - accuracy: 0.3433 - val_loss: 1.2486 - val_accuracy: 0.4394\n",
            "Epoch 10/1000\n",
            "14/14 [==============================] - 0s 4ms/step - loss: 1.4761 - accuracy: 0.4403 - val_loss: 1.2233 - val_accuracy: 0.5152\n",
            "Epoch 11/1000\n",
            "14/14 [==============================] - 0s 4ms/step - loss: 1.5868 - accuracy: 0.3507 - val_loss: 1.2159 - val_accuracy: 0.5303\n",
            "Epoch 12/1000\n",
            "14/14 [==============================] - 0s 4ms/step - loss: 1.4846 - accuracy: 0.4328 - val_loss: 1.2059 - val_accuracy: 0.5303\n",
            "Epoch 13/1000\n",
            "14/14 [==============================] - 0s 3ms/step - loss: 1.3950 - accuracy: 0.5000 - val_loss: 1.1809 - val_accuracy: 0.5152\n",
            "Epoch 14/1000\n",
            "14/14 [==============================] - 0s 4ms/step - loss: 1.5527 - accuracy: 0.4627 - val_loss: 1.1435 - val_accuracy: 0.5606\n",
            "Epoch 15/1000\n",
            "14/14 [==============================] - 0s 4ms/step - loss: 1.4573 - accuracy: 0.4179 - val_loss: 1.1445 - val_accuracy: 0.5303\n",
            "Epoch 16/1000\n",
            "14/14 [==============================] - 0s 4ms/step - loss: 1.3889 - accuracy: 0.5149 - val_loss: 1.1290 - val_accuracy: 0.5455\n",
            "Epoch 17/1000\n",
            "14/14 [==============================] - 0s 3ms/step - loss: 1.4181 - accuracy: 0.4701 - val_loss: 1.1228 - val_accuracy: 0.5606\n",
            "Epoch 18/1000\n",
            "14/14 [==============================] - 0s 3ms/step - loss: 1.3537 - accuracy: 0.4403 - val_loss: 1.1178 - val_accuracy: 0.5758\n",
            "Epoch 19/1000\n",
            "14/14 [==============================] - 0s 3ms/step - loss: 1.4373 - accuracy: 0.4552 - val_loss: 1.1190 - val_accuracy: 0.5455\n",
            "Epoch 20/1000\n",
            "14/14 [==============================] - 0s 3ms/step - loss: 1.2979 - accuracy: 0.4925 - val_loss: 1.1122 - val_accuracy: 0.5455\n",
            "Epoch 21/1000\n",
            "14/14 [==============================] - 0s 3ms/step - loss: 1.3384 - accuracy: 0.5075 - val_loss: 1.1030 - val_accuracy: 0.5455\n",
            "Epoch 22/1000\n",
            "14/14 [==============================] - 0s 4ms/step - loss: 1.3073 - accuracy: 0.5448 - val_loss: 1.1142 - val_accuracy: 0.5606\n",
            "Epoch 23/1000\n",
            "14/14 [==============================] - 0s 3ms/step - loss: 1.3735 - accuracy: 0.4701 - val_loss: 1.1024 - val_accuracy: 0.5606\n",
            "Epoch 24/1000\n",
            "14/14 [==============================] - 0s 4ms/step - loss: 1.2815 - accuracy: 0.5149 - val_loss: 1.0996 - val_accuracy: 0.5758\n",
            "Epoch 25/1000\n",
            "14/14 [==============================] - 0s 3ms/step - loss: 1.2963 - accuracy: 0.4701 - val_loss: 1.0916 - val_accuracy: 0.5758\n",
            "Epoch 26/1000\n",
            "14/14 [==============================] - 0s 3ms/step - loss: 1.2202 - accuracy: 0.5224 - val_loss: 1.0640 - val_accuracy: 0.5758\n",
            "Epoch 27/1000\n",
            "14/14 [==============================] - 0s 3ms/step - loss: 1.2748 - accuracy: 0.5075 - val_loss: 1.0607 - val_accuracy: 0.5758\n",
            "Epoch 28/1000\n",
            "14/14 [==============================] - 0s 4ms/step - loss: 1.3184 - accuracy: 0.5224 - val_loss: 1.0648 - val_accuracy: 0.5606\n",
            "Epoch 29/1000\n",
            "14/14 [==============================] - 0s 4ms/step - loss: 1.2367 - accuracy: 0.5299 - val_loss: 1.0569 - val_accuracy: 0.5606\n",
            "Epoch 30/1000\n",
            "14/14 [==============================] - 0s 3ms/step - loss: 1.1325 - accuracy: 0.5597 - val_loss: 1.0575 - val_accuracy: 0.5606\n",
            "Epoch 31/1000\n",
            "14/14 [==============================] - 0s 3ms/step - loss: 1.1890 - accuracy: 0.5448 - val_loss: 1.0411 - val_accuracy: 0.5606\n",
            "Epoch 32/1000\n",
            "14/14 [==============================] - 0s 4ms/step - loss: 1.2128 - accuracy: 0.5299 - val_loss: 1.0463 - val_accuracy: 0.5606\n",
            "Epoch 33/1000\n",
            "14/14 [==============================] - 0s 3ms/step - loss: 1.1999 - accuracy: 0.5299 - val_loss: 1.0141 - val_accuracy: 0.5606\n",
            "Epoch 34/1000\n",
            "14/14 [==============================] - 0s 3ms/step - loss: 1.1903 - accuracy: 0.5448 - val_loss: 0.9541 - val_accuracy: 0.6061\n",
            "Epoch 35/1000\n",
            "14/14 [==============================] - 0s 4ms/step - loss: 1.0895 - accuracy: 0.5672 - val_loss: 0.9405 - val_accuracy: 0.6212\n",
            "Epoch 36/1000\n",
            "14/14 [==============================] - 0s 5ms/step - loss: 1.0517 - accuracy: 0.5448 - val_loss: 0.9493 - val_accuracy: 0.5909\n",
            "Epoch 37/1000\n",
            "14/14 [==============================] - 0s 3ms/step - loss: 1.1492 - accuracy: 0.5896 - val_loss: 0.9389 - val_accuracy: 0.6212\n",
            "Epoch 38/1000\n",
            "14/14 [==============================] - 0s 3ms/step - loss: 1.0645 - accuracy: 0.5970 - val_loss: 0.9201 - val_accuracy: 0.6212\n",
            "Epoch 39/1000\n",
            "14/14 [==============================] - 0s 3ms/step - loss: 1.0116 - accuracy: 0.6119 - val_loss: 0.9175 - val_accuracy: 0.6212\n",
            "Epoch 40/1000\n",
            "14/14 [==============================] - 0s 4ms/step - loss: 0.9487 - accuracy: 0.6194 - val_loss: 0.9131 - val_accuracy: 0.6212\n",
            "Epoch 41/1000\n",
            "14/14 [==============================] - 0s 3ms/step - loss: 0.9746 - accuracy: 0.6045 - val_loss: 0.9123 - val_accuracy: 0.6212\n",
            "Epoch 42/1000\n",
            "14/14 [==============================] - 0s 4ms/step - loss: 1.0802 - accuracy: 0.5821 - val_loss: 0.9098 - val_accuracy: 0.6212\n",
            "Epoch 43/1000\n",
            "14/14 [==============================] - 0s 5ms/step - loss: 1.0371 - accuracy: 0.5821 - val_loss: 0.8947 - val_accuracy: 0.6515\n",
            "Epoch 44/1000\n",
            "14/14 [==============================] - 0s 3ms/step - loss: 0.9658 - accuracy: 0.6343 - val_loss: 0.8782 - val_accuracy: 0.6667\n",
            "Epoch 45/1000\n",
            "14/14 [==============================] - 0s 3ms/step - loss: 0.9472 - accuracy: 0.6493 - val_loss: 0.8763 - val_accuracy: 0.6212\n",
            "Epoch 46/1000\n",
            "14/14 [==============================] - 0s 4ms/step - loss: 1.0590 - accuracy: 0.5970 - val_loss: 0.8711 - val_accuracy: 0.6212\n",
            "Epoch 47/1000\n",
            "14/14 [==============================] - 0s 4ms/step - loss: 0.9317 - accuracy: 0.6642 - val_loss: 0.8656 - val_accuracy: 0.6515\n",
            "Epoch 48/1000\n",
            "14/14 [==============================] - 0s 4ms/step - loss: 0.9616 - accuracy: 0.5896 - val_loss: 0.8709 - val_accuracy: 0.6061\n",
            "Epoch 49/1000\n",
            "14/14 [==============================] - 0s 4ms/step - loss: 0.9453 - accuracy: 0.6194 - val_loss: 0.8357 - val_accuracy: 0.6970\n",
            "Epoch 50/1000\n",
            "14/14 [==============================] - 0s 4ms/step - loss: 1.0192 - accuracy: 0.5821 - val_loss: 0.8455 - val_accuracy: 0.6515\n",
            "Epoch 51/1000\n",
            "14/14 [==============================] - 0s 4ms/step - loss: 0.8597 - accuracy: 0.6716 - val_loss: 0.8324 - val_accuracy: 0.6515\n",
            "Epoch 52/1000\n",
            "14/14 [==============================] - 0s 3ms/step - loss: 0.8871 - accuracy: 0.6493 - val_loss: 0.8382 - val_accuracy: 0.6818\n",
            "Epoch 53/1000\n",
            "14/14 [==============================] - 0s 4ms/step - loss: 0.9388 - accuracy: 0.6269 - val_loss: 0.8288 - val_accuracy: 0.6970\n",
            "Epoch 54/1000\n",
            "14/14 [==============================] - 0s 4ms/step - loss: 0.9299 - accuracy: 0.6642 - val_loss: 0.8100 - val_accuracy: 0.6970\n",
            "Epoch 55/1000\n",
            "14/14 [==============================] - 0s 3ms/step - loss: 0.9137 - accuracy: 0.6343 - val_loss: 0.7881 - val_accuracy: 0.7273\n",
            "Epoch 56/1000\n",
            "14/14 [==============================] - 0s 3ms/step - loss: 0.8288 - accuracy: 0.6493 - val_loss: 0.7876 - val_accuracy: 0.6970\n",
            "Epoch 57/1000\n",
            "14/14 [==============================] - 0s 3ms/step - loss: 0.8486 - accuracy: 0.6940 - val_loss: 0.7757 - val_accuracy: 0.7273\n",
            "Epoch 58/1000\n",
            "14/14 [==============================] - 0s 3ms/step - loss: 0.8776 - accuracy: 0.6642 - val_loss: 0.7754 - val_accuracy: 0.6667\n",
            "Epoch 59/1000\n",
            "14/14 [==============================] - 0s 4ms/step - loss: 0.8447 - accuracy: 0.6567 - val_loss: 0.7594 - val_accuracy: 0.7273\n",
            "Epoch 60/1000\n",
            "14/14 [==============================] - 0s 3ms/step - loss: 0.8641 - accuracy: 0.6791 - val_loss: 0.7593 - val_accuracy: 0.7273\n",
            "Epoch 61/1000\n",
            "14/14 [==============================] - 0s 4ms/step - loss: 0.8045 - accuracy: 0.6791 - val_loss: 0.7573 - val_accuracy: 0.7273\n",
            "Epoch 62/1000\n",
            "14/14 [==============================] - 0s 3ms/step - loss: 0.8068 - accuracy: 0.7388 - val_loss: 0.7485 - val_accuracy: 0.7273\n",
            "Epoch 63/1000\n",
            "14/14 [==============================] - 0s 4ms/step - loss: 0.7864 - accuracy: 0.6866 - val_loss: 0.7329 - val_accuracy: 0.7273\n",
            "Epoch 64/1000\n",
            "14/14 [==============================] - 0s 3ms/step - loss: 0.7944 - accuracy: 0.6866 - val_loss: 0.7357 - val_accuracy: 0.7273\n",
            "Epoch 65/1000\n",
            "14/14 [==============================] - 0s 3ms/step - loss: 0.7272 - accuracy: 0.7239 - val_loss: 0.7273 - val_accuracy: 0.7273\n",
            "Epoch 66/1000\n",
            "14/14 [==============================] - 0s 4ms/step - loss: 0.7872 - accuracy: 0.7090 - val_loss: 0.7156 - val_accuracy: 0.7273\n",
            "Epoch 67/1000\n",
            "14/14 [==============================] - 0s 3ms/step - loss: 0.8867 - accuracy: 0.6343 - val_loss: 0.6997 - val_accuracy: 0.7273\n",
            "Epoch 68/1000\n",
            "14/14 [==============================] - 0s 5ms/step - loss: 0.8109 - accuracy: 0.6642 - val_loss: 0.7072 - val_accuracy: 0.7273\n",
            "Epoch 69/1000\n",
            "14/14 [==============================] - 0s 3ms/step - loss: 0.7232 - accuracy: 0.7239 - val_loss: 0.6801 - val_accuracy: 0.7576\n",
            "Epoch 70/1000\n",
            "14/14 [==============================] - 0s 4ms/step - loss: 0.7593 - accuracy: 0.7164 - val_loss: 0.6883 - val_accuracy: 0.7273\n",
            "Epoch 71/1000\n",
            "14/14 [==============================] - 0s 3ms/step - loss: 0.7439 - accuracy: 0.6791 - val_loss: 0.6662 - val_accuracy: 0.7576\n",
            "Epoch 72/1000\n",
            "14/14 [==============================] - 0s 3ms/step - loss: 0.7743 - accuracy: 0.6493 - val_loss: 0.6456 - val_accuracy: 0.7424\n",
            "Epoch 73/1000\n",
            "14/14 [==============================] - 0s 4ms/step - loss: 0.7293 - accuracy: 0.7313 - val_loss: 0.6850 - val_accuracy: 0.7121\n",
            "Epoch 74/1000\n",
            "14/14 [==============================] - 0s 4ms/step - loss: 0.7658 - accuracy: 0.7015 - val_loss: 0.6502 - val_accuracy: 0.7576\n",
            "Epoch 75/1000\n",
            "14/14 [==============================] - 0s 3ms/step - loss: 0.6648 - accuracy: 0.7388 - val_loss: 0.6349 - val_accuracy: 0.7727\n",
            "Epoch 76/1000\n",
            "14/14 [==============================] - 0s 3ms/step - loss: 0.7816 - accuracy: 0.6567 - val_loss: 0.6404 - val_accuracy: 0.7576\n",
            "Epoch 77/1000\n",
            "14/14 [==============================] - 0s 5ms/step - loss: 0.6778 - accuracy: 0.7537 - val_loss: 0.6183 - val_accuracy: 0.7727\n",
            "Epoch 78/1000\n",
            "14/14 [==============================] - 0s 3ms/step - loss: 0.6709 - accuracy: 0.7090 - val_loss: 0.6253 - val_accuracy: 0.7576\n",
            "Epoch 79/1000\n",
            "14/14 [==============================] - 0s 4ms/step - loss: 0.7563 - accuracy: 0.6940 - val_loss: 0.6345 - val_accuracy: 0.7576\n",
            "Epoch 80/1000\n",
            "14/14 [==============================] - 0s 3ms/step - loss: 0.7451 - accuracy: 0.7164 - val_loss: 0.5971 - val_accuracy: 0.7727\n",
            "Epoch 81/1000\n",
            "14/14 [==============================] - 0s 3ms/step - loss: 0.6104 - accuracy: 0.7761 - val_loss: 0.6009 - val_accuracy: 0.7727\n",
            "Epoch 82/1000\n",
            "14/14 [==============================] - 0s 4ms/step - loss: 0.7766 - accuracy: 0.6940 - val_loss: 0.5902 - val_accuracy: 0.7727\n",
            "Epoch 83/1000\n",
            "14/14 [==============================] - 0s 4ms/step - loss: 0.7016 - accuracy: 0.7239 - val_loss: 0.5797 - val_accuracy: 0.7727\n",
            "Epoch 84/1000\n",
            "14/14 [==============================] - 0s 3ms/step - loss: 0.6587 - accuracy: 0.7313 - val_loss: 0.5837 - val_accuracy: 0.7727\n",
            "Epoch 85/1000\n",
            "14/14 [==============================] - 0s 4ms/step - loss: 0.6743 - accuracy: 0.7612 - val_loss: 0.5850 - val_accuracy: 0.7727\n",
            "Epoch 86/1000\n",
            "14/14 [==============================] - 0s 3ms/step - loss: 0.6419 - accuracy: 0.7612 - val_loss: 0.5697 - val_accuracy: 0.7727\n",
            "Epoch 87/1000\n",
            "14/14 [==============================] - 0s 4ms/step - loss: 0.6342 - accuracy: 0.7388 - val_loss: 0.5476 - val_accuracy: 0.7727\n",
            "Epoch 88/1000\n",
            "14/14 [==============================] - 0s 4ms/step - loss: 0.6881 - accuracy: 0.7388 - val_loss: 0.5411 - val_accuracy: 0.7727\n",
            "Epoch 89/1000\n",
            "14/14 [==============================] - 0s 4ms/step - loss: 0.5574 - accuracy: 0.7985 - val_loss: 0.5479 - val_accuracy: 0.7727\n",
            "Epoch 90/1000\n",
            "14/14 [==============================] - 0s 4ms/step - loss: 0.6406 - accuracy: 0.7463 - val_loss: 0.5376 - val_accuracy: 0.7879\n",
            "Epoch 91/1000\n",
            "14/14 [==============================] - 0s 3ms/step - loss: 0.6378 - accuracy: 0.7687 - val_loss: 0.5299 - val_accuracy: 0.7879\n",
            "Epoch 92/1000\n",
            "14/14 [==============================] - 0s 3ms/step - loss: 0.6282 - accuracy: 0.7761 - val_loss: 0.5393 - val_accuracy: 0.7727\n",
            "Epoch 93/1000\n",
            "14/14 [==============================] - 0s 3ms/step - loss: 0.5872 - accuracy: 0.7761 - val_loss: 0.5259 - val_accuracy: 0.7727\n",
            "Epoch 94/1000\n",
            "14/14 [==============================] - 0s 4ms/step - loss: 0.6588 - accuracy: 0.7687 - val_loss: 0.5168 - val_accuracy: 0.7879\n",
            "Epoch 95/1000\n",
            "14/14 [==============================] - 0s 4ms/step - loss: 0.5835 - accuracy: 0.7910 - val_loss: 0.5296 - val_accuracy: 0.7727\n",
            "Epoch 96/1000\n",
            "14/14 [==============================] - 0s 4ms/step - loss: 0.5733 - accuracy: 0.8060 - val_loss: 0.5114 - val_accuracy: 0.7879\n",
            "Epoch 97/1000\n",
            "14/14 [==============================] - 0s 3ms/step - loss: 0.6264 - accuracy: 0.7687 - val_loss: 0.5125 - val_accuracy: 0.7879\n",
            "Epoch 98/1000\n",
            "14/14 [==============================] - 0s 3ms/step - loss: 0.6420 - accuracy: 0.7537 - val_loss: 0.5129 - val_accuracy: 0.7879\n",
            "Epoch 99/1000\n",
            "14/14 [==============================] - 0s 3ms/step - loss: 0.5877 - accuracy: 0.7836 - val_loss: 0.4956 - val_accuracy: 0.8030\n",
            "Epoch 100/1000\n",
            "14/14 [==============================] - 0s 3ms/step - loss: 0.5801 - accuracy: 0.8060 - val_loss: 0.4935 - val_accuracy: 0.7879\n",
            "Epoch 101/1000\n",
            "14/14 [==============================] - 0s 3ms/step - loss: 0.5936 - accuracy: 0.7388 - val_loss: 0.4881 - val_accuracy: 0.8030\n",
            "Epoch 102/1000\n",
            "14/14 [==============================] - 0s 3ms/step - loss: 0.5889 - accuracy: 0.7463 - val_loss: 0.4756 - val_accuracy: 0.8030\n",
            "Epoch 103/1000\n",
            "14/14 [==============================] - 0s 4ms/step - loss: 0.5695 - accuracy: 0.7985 - val_loss: 0.4818 - val_accuracy: 0.8030\n",
            "Epoch 104/1000\n",
            "14/14 [==============================] - 0s 3ms/step - loss: 0.5356 - accuracy: 0.8060 - val_loss: 0.4721 - val_accuracy: 0.8030\n",
            "Epoch 105/1000\n",
            "14/14 [==============================] - 0s 4ms/step - loss: 0.5626 - accuracy: 0.7836 - val_loss: 0.4600 - val_accuracy: 0.8182\n",
            "Epoch 106/1000\n",
            "14/14 [==============================] - 0s 4ms/step - loss: 0.5566 - accuracy: 0.7910 - val_loss: 0.4777 - val_accuracy: 0.7879\n",
            "Epoch 107/1000\n",
            "14/14 [==============================] - 0s 3ms/step - loss: 0.6144 - accuracy: 0.7687 - val_loss: 0.4505 - val_accuracy: 0.8333\n",
            "Epoch 108/1000\n",
            "14/14 [==============================] - 0s 4ms/step - loss: 0.5616 - accuracy: 0.7836 - val_loss: 0.4465 - val_accuracy: 0.8182\n",
            "Epoch 109/1000\n",
            "14/14 [==============================] - 0s 3ms/step - loss: 0.5328 - accuracy: 0.7910 - val_loss: 0.4510 - val_accuracy: 0.8182\n",
            "Epoch 110/1000\n",
            "14/14 [==============================] - 0s 3ms/step - loss: 0.5346 - accuracy: 0.7985 - val_loss: 0.4465 - val_accuracy: 0.8182\n",
            "Epoch 111/1000\n",
            "14/14 [==============================] - 0s 4ms/step - loss: 0.5214 - accuracy: 0.7836 - val_loss: 0.4329 - val_accuracy: 0.8485\n",
            "Epoch 112/1000\n",
            "14/14 [==============================] - 0s 3ms/step - loss: 0.4916 - accuracy: 0.8209 - val_loss: 0.4292 - val_accuracy: 0.8333\n",
            "Epoch 113/1000\n",
            "14/14 [==============================] - 0s 3ms/step - loss: 0.5272 - accuracy: 0.7985 - val_loss: 0.4206 - val_accuracy: 0.8485\n",
            "Epoch 114/1000\n",
            "14/14 [==============================] - 0s 3ms/step - loss: 0.5391 - accuracy: 0.8209 - val_loss: 0.4368 - val_accuracy: 0.8182\n",
            "Epoch 115/1000\n",
            "14/14 [==============================] - 0s 4ms/step - loss: 0.5202 - accuracy: 0.8284 - val_loss: 0.4216 - val_accuracy: 0.8333\n",
            "Epoch 116/1000\n",
            "14/14 [==============================] - 0s 3ms/step - loss: 0.4882 - accuracy: 0.8209 - val_loss: 0.4092 - val_accuracy: 0.8485\n",
            "Epoch 117/1000\n",
            "14/14 [==============================] - 0s 3ms/step - loss: 0.4788 - accuracy: 0.8433 - val_loss: 0.4048 - val_accuracy: 0.8485\n",
            "Epoch 118/1000\n",
            "14/14 [==============================] - 0s 4ms/step - loss: 0.5144 - accuracy: 0.7761 - val_loss: 0.4060 - val_accuracy: 0.8636\n",
            "Epoch 119/1000\n",
            "14/14 [==============================] - 0s 3ms/step - loss: 0.4682 - accuracy: 0.8284 - val_loss: 0.4092 - val_accuracy: 0.8485\n",
            "Epoch 120/1000\n",
            "14/14 [==============================] - 0s 3ms/step - loss: 0.4522 - accuracy: 0.8881 - val_loss: 0.4029 - val_accuracy: 0.8485\n",
            "Epoch 121/1000\n",
            "14/14 [==============================] - 0s 4ms/step - loss: 0.5660 - accuracy: 0.8209 - val_loss: 0.3943 - val_accuracy: 0.8485\n",
            "Epoch 122/1000\n",
            "14/14 [==============================] - 0s 4ms/step - loss: 0.4577 - accuracy: 0.8507 - val_loss: 0.4009 - val_accuracy: 0.8636\n",
            "Epoch 123/1000\n",
            "14/14 [==============================] - 0s 3ms/step - loss: 0.4663 - accuracy: 0.8507 - val_loss: 0.3822 - val_accuracy: 0.8788\n",
            "Epoch 124/1000\n",
            "14/14 [==============================] - 0s 5ms/step - loss: 0.4465 - accuracy: 0.8358 - val_loss: 0.3743 - val_accuracy: 0.8636\n",
            "Epoch 125/1000\n",
            "14/14 [==============================] - 0s 3ms/step - loss: 0.4199 - accuracy: 0.9030 - val_loss: 0.3747 - val_accuracy: 0.8636\n",
            "Epoch 126/1000\n",
            "14/14 [==============================] - 0s 4ms/step - loss: 0.5191 - accuracy: 0.8060 - val_loss: 0.3831 - val_accuracy: 0.8485\n",
            "Epoch 127/1000\n",
            "14/14 [==============================] - 0s 3ms/step - loss: 0.4546 - accuracy: 0.8433 - val_loss: 0.3663 - val_accuracy: 0.8788\n",
            "Epoch 128/1000\n",
            "14/14 [==============================] - 0s 3ms/step - loss: 0.4373 - accuracy: 0.8731 - val_loss: 0.3662 - val_accuracy: 0.8636\n",
            "Epoch 129/1000\n",
            "14/14 [==============================] - 0s 4ms/step - loss: 0.4913 - accuracy: 0.8134 - val_loss: 0.3505 - val_accuracy: 0.8788\n",
            "Epoch 130/1000\n",
            "14/14 [==============================] - 0s 3ms/step - loss: 0.4341 - accuracy: 0.8881 - val_loss: 0.3489 - val_accuracy: 0.8636\n",
            "Epoch 131/1000\n",
            "14/14 [==============================] - 0s 3ms/step - loss: 0.4679 - accuracy: 0.8507 - val_loss: 0.3664 - val_accuracy: 0.8636\n",
            "Epoch 132/1000\n",
            "14/14 [==============================] - 0s 3ms/step - loss: 0.4926 - accuracy: 0.7910 - val_loss: 0.3525 - val_accuracy: 0.8788\n",
            "Epoch 133/1000\n",
            "14/14 [==============================] - 0s 3ms/step - loss: 0.3990 - accuracy: 0.8806 - val_loss: 0.3465 - val_accuracy: 0.8788\n",
            "Epoch 134/1000\n",
            "14/14 [==============================] - 0s 3ms/step - loss: 0.4221 - accuracy: 0.8507 - val_loss: 0.3514 - val_accuracy: 0.8788\n",
            "Epoch 135/1000\n",
            "14/14 [==============================] - 0s 3ms/step - loss: 0.4146 - accuracy: 0.8582 - val_loss: 0.3418 - val_accuracy: 0.8788\n",
            "Epoch 136/1000\n",
            "14/14 [==============================] - 0s 3ms/step - loss: 0.4536 - accuracy: 0.8284 - val_loss: 0.3493 - val_accuracy: 0.8788\n",
            "Epoch 137/1000\n",
            "14/14 [==============================] - 0s 4ms/step - loss: 0.4979 - accuracy: 0.8060 - val_loss: 0.3363 - val_accuracy: 0.8788\n",
            "Epoch 138/1000\n",
            "14/14 [==============================] - 0s 4ms/step - loss: 0.4646 - accuracy: 0.8209 - val_loss: 0.3357 - val_accuracy: 0.8788\n",
            "Epoch 139/1000\n",
            "14/14 [==============================] - 0s 4ms/step - loss: 0.4660 - accuracy: 0.8433 - val_loss: 0.3354 - val_accuracy: 0.8788\n",
            "Epoch 140/1000\n",
            "14/14 [==============================] - 0s 4ms/step - loss: 0.4619 - accuracy: 0.8060 - val_loss: 0.3423 - val_accuracy: 0.8636\n",
            "Epoch 141/1000\n",
            "14/14 [==============================] - 0s 3ms/step - loss: 0.4190 - accuracy: 0.8881 - val_loss: 0.3222 - val_accuracy: 0.8939\n",
            "Epoch 142/1000\n",
            "14/14 [==============================] - 0s 3ms/step - loss: 0.4234 - accuracy: 0.8507 - val_loss: 0.3254 - val_accuracy: 0.8939\n",
            "Epoch 143/1000\n",
            "14/14 [==============================] - 0s 4ms/step - loss: 0.4419 - accuracy: 0.8284 - val_loss: 0.3307 - val_accuracy: 0.8788\n",
            "Epoch 144/1000\n",
            "14/14 [==============================] - 0s 4ms/step - loss: 0.4247 - accuracy: 0.8507 - val_loss: 0.3186 - val_accuracy: 0.8939\n",
            "Epoch 145/1000\n",
            "14/14 [==============================] - 0s 4ms/step - loss: 0.4414 - accuracy: 0.8507 - val_loss: 0.3503 - val_accuracy: 0.8485\n",
            "Epoch 146/1000\n",
            "14/14 [==============================] - 0s 4ms/step - loss: 0.4099 - accuracy: 0.8731 - val_loss: 0.3067 - val_accuracy: 0.8939\n",
            "Epoch 147/1000\n",
            "14/14 [==============================] - 0s 4ms/step - loss: 0.3976 - accuracy: 0.8582 - val_loss: 0.3244 - val_accuracy: 0.8788\n",
            "Epoch 148/1000\n",
            "14/14 [==============================] - 0s 4ms/step - loss: 0.4175 - accuracy: 0.8433 - val_loss: 0.3085 - val_accuracy: 0.8939\n",
            "Epoch 149/1000\n",
            "14/14 [==============================] - 0s 3ms/step - loss: 0.3949 - accuracy: 0.8731 - val_loss: 0.3113 - val_accuracy: 0.8939\n",
            "Epoch 150/1000\n",
            "14/14 [==============================] - 0s 3ms/step - loss: 0.4070 - accuracy: 0.8507 - val_loss: 0.3070 - val_accuracy: 0.8939\n",
            "Epoch 151/1000\n",
            "14/14 [==============================] - 0s 3ms/step - loss: 0.4200 - accuracy: 0.8582 - val_loss: 0.2956 - val_accuracy: 0.8788\n",
            "Epoch 152/1000\n",
            "14/14 [==============================] - 0s 3ms/step - loss: 0.4147 - accuracy: 0.8209 - val_loss: 0.3012 - val_accuracy: 0.8788\n",
            "Epoch 153/1000\n",
            "14/14 [==============================] - 0s 4ms/step - loss: 0.3837 - accuracy: 0.8657 - val_loss: 0.3001 - val_accuracy: 0.8788\n",
            "Epoch 154/1000\n",
            "14/14 [==============================] - 0s 4ms/step - loss: 0.3891 - accuracy: 0.8582 - val_loss: 0.2932 - val_accuracy: 0.8939\n",
            "Epoch 155/1000\n",
            "14/14 [==============================] - 0s 4ms/step - loss: 0.3416 - accuracy: 0.9030 - val_loss: 0.2771 - val_accuracy: 0.8939\n",
            "Epoch 156/1000\n",
            "14/14 [==============================] - 0s 4ms/step - loss: 0.4418 - accuracy: 0.8806 - val_loss: 0.2856 - val_accuracy: 0.8788\n",
            "Epoch 157/1000\n",
            "14/14 [==============================] - 0s 4ms/step - loss: 0.3820 - accuracy: 0.8657 - val_loss: 0.2869 - val_accuracy: 0.8939\n",
            "Epoch 158/1000\n",
            "14/14 [==============================] - 0s 4ms/step - loss: 0.4188 - accuracy: 0.8657 - val_loss: 0.2808 - val_accuracy: 0.8939\n",
            "Epoch 159/1000\n",
            "14/14 [==============================] - 0s 3ms/step - loss: 0.3173 - accuracy: 0.8806 - val_loss: 0.2700 - val_accuracy: 0.9394\n",
            "Epoch 160/1000\n",
            "14/14 [==============================] - 0s 3ms/step - loss: 0.3871 - accuracy: 0.8657 - val_loss: 0.2762 - val_accuracy: 0.8939\n",
            "Epoch 161/1000\n",
            "14/14 [==============================] - 0s 3ms/step - loss: 0.3433 - accuracy: 0.8881 - val_loss: 0.2874 - val_accuracy: 0.8788\n",
            "Epoch 162/1000\n",
            "14/14 [==============================] - 0s 3ms/step - loss: 0.3735 - accuracy: 0.8657 - val_loss: 0.2705 - val_accuracy: 0.9091\n",
            "Epoch 163/1000\n",
            "14/14 [==============================] - 0s 3ms/step - loss: 0.3929 - accuracy: 0.8507 - val_loss: 0.2681 - val_accuracy: 0.8939\n",
            "Epoch 164/1000\n",
            "14/14 [==============================] - 0s 4ms/step - loss: 0.3633 - accuracy: 0.8582 - val_loss: 0.2631 - val_accuracy: 0.9091\n",
            "Epoch 165/1000\n",
            "14/14 [==============================] - 0s 3ms/step - loss: 0.4166 - accuracy: 0.8358 - val_loss: 0.2640 - val_accuracy: 0.9242\n",
            "Epoch 166/1000\n",
            "14/14 [==============================] - 0s 4ms/step - loss: 0.2999 - accuracy: 0.9328 - val_loss: 0.2712 - val_accuracy: 0.8939\n",
            "Epoch 167/1000\n",
            "14/14 [==============================] - 0s 3ms/step - loss: 0.3899 - accuracy: 0.8507 - val_loss: 0.2547 - val_accuracy: 0.8939\n",
            "Epoch 168/1000\n",
            "14/14 [==============================] - 0s 3ms/step - loss: 0.3638 - accuracy: 0.8806 - val_loss: 0.2498 - val_accuracy: 0.8939\n",
            "Epoch 169/1000\n",
            "14/14 [==============================] - 0s 4ms/step - loss: 0.3765 - accuracy: 0.8881 - val_loss: 0.2550 - val_accuracy: 0.9242\n",
            "Epoch 170/1000\n",
            "14/14 [==============================] - 0s 4ms/step - loss: 0.4046 - accuracy: 0.8881 - val_loss: 0.2559 - val_accuracy: 0.9091\n",
            "Epoch 171/1000\n",
            "14/14 [==============================] - 0s 4ms/step - loss: 0.3194 - accuracy: 0.9030 - val_loss: 0.2520 - val_accuracy: 0.8939\n",
            "Epoch 172/1000\n",
            "14/14 [==============================] - 0s 5ms/step - loss: 0.4006 - accuracy: 0.8657 - val_loss: 0.2485 - val_accuracy: 0.9242\n",
            "Epoch 173/1000\n",
            "14/14 [==============================] - 0s 3ms/step - loss: 0.3328 - accuracy: 0.8806 - val_loss: 0.2449 - val_accuracy: 0.9394\n",
            "Epoch 174/1000\n",
            "14/14 [==============================] - 0s 3ms/step - loss: 0.4060 - accuracy: 0.8284 - val_loss: 0.2461 - val_accuracy: 0.9091\n",
            "Epoch 175/1000\n",
            "14/14 [==============================] - 0s 4ms/step - loss: 0.3548 - accuracy: 0.8881 - val_loss: 0.2433 - val_accuracy: 0.9242\n",
            "Epoch 176/1000\n",
            "14/14 [==============================] - 0s 3ms/step - loss: 0.3459 - accuracy: 0.8881 - val_loss: 0.2458 - val_accuracy: 0.8939\n",
            "Epoch 177/1000\n",
            "14/14 [==============================] - 0s 3ms/step - loss: 0.3631 - accuracy: 0.9030 - val_loss: 0.2418 - val_accuracy: 0.9242\n",
            "Epoch 178/1000\n",
            "14/14 [==============================] - 0s 3ms/step - loss: 0.3080 - accuracy: 0.8881 - val_loss: 0.2374 - val_accuracy: 0.9545\n",
            "Epoch 179/1000\n",
            "14/14 [==============================] - 0s 3ms/step - loss: 0.3058 - accuracy: 0.8881 - val_loss: 0.2357 - val_accuracy: 0.9394\n",
            "Epoch 180/1000\n",
            "14/14 [==============================] - 0s 3ms/step - loss: 0.3634 - accuracy: 0.8582 - val_loss: 0.2331 - val_accuracy: 0.9091\n",
            "Epoch 181/1000\n",
            "14/14 [==============================] - 0s 3ms/step - loss: 0.3708 - accuracy: 0.8657 - val_loss: 0.2291 - val_accuracy: 0.9545\n",
            "Epoch 182/1000\n",
            "14/14 [==============================] - 0s 4ms/step - loss: 0.3646 - accuracy: 0.8507 - val_loss: 0.2270 - val_accuracy: 0.9242\n",
            "Epoch 183/1000\n",
            "14/14 [==============================] - 0s 4ms/step - loss: 0.4104 - accuracy: 0.8582 - val_loss: 0.2354 - val_accuracy: 0.9091\n",
            "Epoch 184/1000\n",
            "14/14 [==============================] - 0s 4ms/step - loss: 0.3289 - accuracy: 0.9179 - val_loss: 0.2331 - val_accuracy: 0.9394\n",
            "Epoch 185/1000\n",
            "14/14 [==============================] - 0s 5ms/step - loss: 0.3661 - accuracy: 0.8507 - val_loss: 0.2249 - val_accuracy: 0.9545\n",
            "Epoch 186/1000\n",
            "14/14 [==============================] - 0s 3ms/step - loss: 0.3429 - accuracy: 0.8657 - val_loss: 0.2213 - val_accuracy: 0.9545\n",
            "Epoch 187/1000\n",
            "14/14 [==============================] - 0s 5ms/step - loss: 0.3077 - accuracy: 0.8955 - val_loss: 0.2148 - val_accuracy: 0.9545\n",
            "Epoch 188/1000\n",
            "14/14 [==============================] - 0s 3ms/step - loss: 0.3511 - accuracy: 0.9030 - val_loss: 0.2252 - val_accuracy: 0.9242\n",
            "Epoch 189/1000\n",
            "14/14 [==============================] - 0s 3ms/step - loss: 0.2930 - accuracy: 0.9328 - val_loss: 0.2239 - val_accuracy: 0.9545\n",
            "Epoch 190/1000\n",
            "14/14 [==============================] - 0s 3ms/step - loss: 0.3242 - accuracy: 0.8955 - val_loss: 0.2263 - val_accuracy: 0.9091\n",
            "Epoch 191/1000\n",
            "14/14 [==============================] - 0s 3ms/step - loss: 0.3488 - accuracy: 0.8731 - val_loss: 0.2093 - val_accuracy: 0.9545\n",
            "Epoch 192/1000\n",
            "14/14 [==============================] - 0s 3ms/step - loss: 0.3649 - accuracy: 0.8881 - val_loss: 0.2090 - val_accuracy: 0.9545\n",
            "Epoch 193/1000\n",
            "14/14 [==============================] - 0s 4ms/step - loss: 0.2839 - accuracy: 0.9254 - val_loss: 0.2087 - val_accuracy: 0.9545\n",
            "Epoch 194/1000\n",
            "14/14 [==============================] - 0s 3ms/step - loss: 0.3360 - accuracy: 0.8881 - val_loss: 0.2084 - val_accuracy: 0.9545\n",
            "Epoch 195/1000\n",
            "14/14 [==============================] - 0s 3ms/step - loss: 0.3752 - accuracy: 0.8433 - val_loss: 0.2174 - val_accuracy: 0.9394\n",
            "Epoch 196/1000\n",
            "14/14 [==============================] - 0s 4ms/step - loss: 0.3280 - accuracy: 0.8955 - val_loss: 0.2167 - val_accuracy: 0.9394\n",
            "Epoch 197/1000\n",
            "14/14 [==============================] - 0s 4ms/step - loss: 0.2516 - accuracy: 0.9328 - val_loss: 0.2124 - val_accuracy: 0.9545\n",
            "Epoch 198/1000\n",
            "14/14 [==============================] - 0s 3ms/step - loss: 0.3281 - accuracy: 0.9030 - val_loss: 0.2013 - val_accuracy: 0.9545\n",
            "Epoch 199/1000\n",
            "14/14 [==============================] - 0s 4ms/step - loss: 0.3089 - accuracy: 0.9030 - val_loss: 0.1998 - val_accuracy: 0.9545\n",
            "Epoch 200/1000\n",
            "14/14 [==============================] - 0s 3ms/step - loss: 0.3589 - accuracy: 0.8582 - val_loss: 0.2052 - val_accuracy: 0.9394\n",
            "Epoch 201/1000\n",
            "14/14 [==============================] - 0s 3ms/step - loss: 0.2979 - accuracy: 0.9104 - val_loss: 0.1984 - val_accuracy: 0.9545\n",
            "Epoch 202/1000\n",
            "14/14 [==============================] - 0s 4ms/step - loss: 0.3021 - accuracy: 0.8881 - val_loss: 0.1996 - val_accuracy: 0.9545\n",
            "Epoch 203/1000\n",
            "14/14 [==============================] - 0s 3ms/step - loss: 0.3187 - accuracy: 0.8955 - val_loss: 0.2082 - val_accuracy: 0.9545\n",
            "Epoch 204/1000\n",
            "14/14 [==============================] - 0s 4ms/step - loss: 0.2766 - accuracy: 0.9179 - val_loss: 0.2073 - val_accuracy: 0.9545\n",
            "Epoch 205/1000\n",
            "14/14 [==============================] - 0s 3ms/step - loss: 0.2773 - accuracy: 0.9104 - val_loss: 0.1940 - val_accuracy: 0.9545\n",
            "Epoch 206/1000\n",
            "14/14 [==============================] - 0s 3ms/step - loss: 0.3080 - accuracy: 0.8657 - val_loss: 0.1939 - val_accuracy: 0.9545\n",
            "Epoch 207/1000\n",
            "14/14 [==============================] - 0s 3ms/step - loss: 0.2709 - accuracy: 0.9104 - val_loss: 0.1987 - val_accuracy: 0.9545\n",
            "Epoch 208/1000\n",
            "14/14 [==============================] - 0s 3ms/step - loss: 0.3037 - accuracy: 0.9104 - val_loss: 0.2003 - val_accuracy: 0.9545\n",
            "Epoch 209/1000\n",
            "14/14 [==============================] - 0s 4ms/step - loss: 0.2777 - accuracy: 0.9403 - val_loss: 0.1966 - val_accuracy: 0.9545\n",
            "Epoch 210/1000\n",
            "14/14 [==============================] - 0s 3ms/step - loss: 0.2456 - accuracy: 0.9254 - val_loss: 0.1924 - val_accuracy: 0.9545\n",
            "Epoch 211/1000\n",
            "14/14 [==============================] - 0s 3ms/step - loss: 0.2507 - accuracy: 0.9104 - val_loss: 0.1894 - val_accuracy: 0.9545\n",
            "Epoch 212/1000\n",
            "14/14 [==============================] - 0s 3ms/step - loss: 0.2919 - accuracy: 0.8955 - val_loss: 0.2135 - val_accuracy: 0.9394\n",
            "Epoch 213/1000\n",
            "14/14 [==============================] - 0s 3ms/step - loss: 0.3342 - accuracy: 0.8955 - val_loss: 0.1910 - val_accuracy: 0.9545\n",
            "Epoch 214/1000\n",
            "14/14 [==============================] - 0s 4ms/step - loss: 0.3150 - accuracy: 0.8955 - val_loss: 0.1955 - val_accuracy: 0.9394\n",
            "Epoch 215/1000\n",
            "14/14 [==============================] - 0s 3ms/step - loss: 0.2789 - accuracy: 0.9179 - val_loss: 0.1973 - val_accuracy: 0.9545\n",
            "Epoch 216/1000\n",
            "14/14 [==============================] - 0s 3ms/step - loss: 0.2876 - accuracy: 0.9104 - val_loss: 0.1980 - val_accuracy: 0.9545\n",
            "Epoch 217/1000\n",
            "14/14 [==============================] - 0s 5ms/step - loss: 0.3003 - accuracy: 0.9104 - val_loss: 0.1844 - val_accuracy: 0.9545\n",
            "Epoch 218/1000\n",
            "14/14 [==============================] - 0s 4ms/step - loss: 0.2848 - accuracy: 0.8955 - val_loss: 0.1808 - val_accuracy: 0.9545\n",
            "Epoch 219/1000\n",
            "14/14 [==============================] - 0s 3ms/step - loss: 0.3139 - accuracy: 0.9030 - val_loss: 0.1850 - val_accuracy: 0.9545\n",
            "Epoch 220/1000\n",
            "14/14 [==============================] - 0s 3ms/step - loss: 0.2791 - accuracy: 0.9030 - val_loss: 0.1980 - val_accuracy: 0.9545\n",
            "Epoch 221/1000\n",
            "14/14 [==============================] - 0s 4ms/step - loss: 0.3243 - accuracy: 0.8657 - val_loss: 0.1925 - val_accuracy: 0.9394\n",
            "Epoch 222/1000\n",
            "14/14 [==============================] - 0s 3ms/step - loss: 0.2931 - accuracy: 0.8806 - val_loss: 0.1904 - val_accuracy: 0.9394\n",
            "Epoch 223/1000\n",
            "14/14 [==============================] - 0s 3ms/step - loss: 0.2834 - accuracy: 0.8955 - val_loss: 0.1817 - val_accuracy: 0.9545\n",
            "Epoch 224/1000\n",
            "14/14 [==============================] - 0s 3ms/step - loss: 0.2602 - accuracy: 0.9104 - val_loss: 0.1736 - val_accuracy: 0.9545\n",
            "Epoch 225/1000\n",
            "14/14 [==============================] - 0s 3ms/step - loss: 0.2448 - accuracy: 0.9328 - val_loss: 0.1772 - val_accuracy: 0.9545\n",
            "Epoch 226/1000\n",
            "14/14 [==============================] - 0s 3ms/step - loss: 0.3153 - accuracy: 0.8881 - val_loss: 0.1807 - val_accuracy: 0.9545\n",
            "Epoch 227/1000\n",
            "14/14 [==============================] - 0s 3ms/step - loss: 0.3312 - accuracy: 0.8955 - val_loss: 0.1869 - val_accuracy: 0.9394\n",
            "Epoch 228/1000\n",
            "14/14 [==============================] - 0s 3ms/step - loss: 0.2252 - accuracy: 0.8955 - val_loss: 0.1910 - val_accuracy: 0.9394\n",
            "Epoch 229/1000\n",
            "14/14 [==============================] - 0s 4ms/step - loss: 0.3393 - accuracy: 0.8806 - val_loss: 0.1726 - val_accuracy: 0.9545\n",
            "Epoch 230/1000\n",
            "14/14 [==============================] - 0s 3ms/step - loss: 0.2464 - accuracy: 0.9254 - val_loss: 0.1748 - val_accuracy: 0.9394\n",
            "Epoch 231/1000\n",
            "14/14 [==============================] - 0s 4ms/step - loss: 0.3143 - accuracy: 0.8881 - val_loss: 0.1743 - val_accuracy: 0.9545\n",
            "Epoch 232/1000\n",
            "14/14 [==============================] - 0s 3ms/step - loss: 0.2317 - accuracy: 0.9254 - val_loss: 0.1785 - val_accuracy: 0.9545\n",
            "Epoch 233/1000\n",
            "14/14 [==============================] - 0s 4ms/step - loss: 0.2761 - accuracy: 0.8955 - val_loss: 0.1739 - val_accuracy: 0.9545\n",
            "Epoch 234/1000\n",
            "14/14 [==============================] - 0s 4ms/step - loss: 0.2903 - accuracy: 0.8955 - val_loss: 0.1624 - val_accuracy: 0.9545\n",
            "Epoch 235/1000\n",
            "14/14 [==============================] - 0s 4ms/step - loss: 0.2346 - accuracy: 0.9403 - val_loss: 0.1651 - val_accuracy: 0.9545\n",
            "Epoch 236/1000\n",
            "14/14 [==============================] - 0s 3ms/step - loss: 0.2996 - accuracy: 0.8955 - val_loss: 0.1679 - val_accuracy: 0.9545\n",
            "Epoch 237/1000\n",
            "14/14 [==============================] - 0s 3ms/step - loss: 0.3466 - accuracy: 0.8358 - val_loss: 0.1676 - val_accuracy: 0.9545\n",
            "Epoch 238/1000\n",
            "14/14 [==============================] - 0s 3ms/step - loss: 0.2789 - accuracy: 0.8955 - val_loss: 0.1688 - val_accuracy: 0.9545\n",
            "Epoch 239/1000\n",
            "14/14 [==============================] - 0s 4ms/step - loss: 0.2997 - accuracy: 0.8881 - val_loss: 0.1708 - val_accuracy: 0.9545\n",
            "Epoch 240/1000\n",
            "14/14 [==============================] - 0s 4ms/step - loss: 0.2556 - accuracy: 0.9254 - val_loss: 0.1597 - val_accuracy: 0.9545\n",
            "Epoch 241/1000\n",
            "14/14 [==============================] - 0s 3ms/step - loss: 0.2520 - accuracy: 0.9179 - val_loss: 0.1622 - val_accuracy: 0.9545\n",
            "Epoch 242/1000\n",
            "14/14 [==============================] - 0s 4ms/step - loss: 0.2516 - accuracy: 0.9254 - val_loss: 0.1601 - val_accuracy: 0.9545\n",
            "Epoch 243/1000\n",
            "14/14 [==============================] - 0s 4ms/step - loss: 0.2548 - accuracy: 0.9179 - val_loss: 0.1718 - val_accuracy: 0.9545\n",
            "Epoch 244/1000\n",
            "14/14 [==============================] - 0s 3ms/step - loss: 0.2879 - accuracy: 0.9030 - val_loss: 0.1691 - val_accuracy: 0.9545\n",
            "Epoch 245/1000\n",
            "14/14 [==============================] - 0s 3ms/step - loss: 0.2962 - accuracy: 0.8731 - val_loss: 0.1726 - val_accuracy: 0.9545\n",
            "Epoch 246/1000\n",
            "14/14 [==============================] - 0s 4ms/step - loss: 0.2137 - accuracy: 0.9552 - val_loss: 0.1693 - val_accuracy: 0.9545\n",
            "Epoch 247/1000\n",
            "14/14 [==============================] - 0s 4ms/step - loss: 0.2445 - accuracy: 0.9403 - val_loss: 0.1539 - val_accuracy: 0.9545\n",
            "Epoch 248/1000\n",
            "14/14 [==============================] - 0s 3ms/step - loss: 0.2903 - accuracy: 0.8881 - val_loss: 0.1534 - val_accuracy: 0.9545\n",
            "Epoch 249/1000\n",
            "14/14 [==============================] - 0s 3ms/step - loss: 0.2792 - accuracy: 0.8955 - val_loss: 0.1679 - val_accuracy: 0.9545\n",
            "Epoch 250/1000\n",
            "14/14 [==============================] - 0s 3ms/step - loss: 0.2327 - accuracy: 0.9403 - val_loss: 0.1575 - val_accuracy: 0.9545\n",
            "Epoch 251/1000\n",
            "14/14 [==============================] - 0s 3ms/step - loss: 0.2747 - accuracy: 0.9104 - val_loss: 0.1436 - val_accuracy: 0.9545\n",
            "Epoch 252/1000\n",
            "14/14 [==============================] - 0s 3ms/step - loss: 0.2617 - accuracy: 0.9254 - val_loss: 0.1473 - val_accuracy: 0.9545\n",
            "Epoch 253/1000\n",
            "14/14 [==============================] - 0s 3ms/step - loss: 0.2557 - accuracy: 0.9254 - val_loss: 0.1607 - val_accuracy: 0.9545\n",
            "Epoch 254/1000\n",
            "14/14 [==============================] - 0s 3ms/step - loss: 0.2333 - accuracy: 0.9627 - val_loss: 0.1498 - val_accuracy: 0.9545\n",
            "Epoch 255/1000\n",
            "14/14 [==============================] - 0s 3ms/step - loss: 0.2209 - accuracy: 0.9552 - val_loss: 0.1652 - val_accuracy: 0.9242\n",
            "Epoch 256/1000\n",
            "14/14 [==============================] - 0s 3ms/step - loss: 0.2521 - accuracy: 0.9254 - val_loss: 0.1597 - val_accuracy: 0.9545\n",
            "Epoch 257/1000\n",
            "14/14 [==============================] - 0s 3ms/step - loss: 0.2761 - accuracy: 0.8955 - val_loss: 0.1602 - val_accuracy: 0.9545\n",
            "Epoch 258/1000\n",
            "14/14 [==============================] - 0s 3ms/step - loss: 0.2520 - accuracy: 0.9104 - val_loss: 0.1570 - val_accuracy: 0.9545\n",
            "Epoch 259/1000\n",
            "14/14 [==============================] - 0s 4ms/step - loss: 0.2171 - accuracy: 0.9478 - val_loss: 0.1575 - val_accuracy: 0.9545\n",
            "Epoch 260/1000\n",
            "14/14 [==============================] - 0s 3ms/step - loss: 0.2589 - accuracy: 0.9179 - val_loss: 0.1607 - val_accuracy: 0.9545\n",
            "Epoch 261/1000\n",
            "14/14 [==============================] - 0s 4ms/step - loss: 0.2598 - accuracy: 0.9104 - val_loss: 0.1484 - val_accuracy: 0.9545\n"
          ]
        },
        {
          "output_type": "execute_result",
          "data": {
            "text/plain": [
              "<keras.callbacks.History at 0x7f64b9560210>"
            ]
          },
          "metadata": {},
          "execution_count": 28
        }
      ],
      "source": [
        "model_2.fit(x=X_train, \n",
        "          y=y_train, \n",
        "          epochs=1000,\n",
        "          batch_size=10,\n",
        "          validation_data=(X_test, y_test),\n",
        "           callbacks=[early_stop]\n",
        "          )"
      ]
    },
    {
      "cell_type": "code",
      "execution_count": 29,
      "metadata": {
        "execution": {
          "iopub.execute_input": "2021-02-16T20:00:34.005627Z",
          "iopub.status.busy": "2021-02-16T20:00:34.004720Z",
          "iopub.status.idle": "2021-02-16T20:00:34.060586Z",
          "shell.execute_reply": "2021-02-16T20:00:34.060076Z"
        },
        "papermill": {
          "duration": 0.20481,
          "end_time": "2021-02-16T20:00:34.060727",
          "exception": false,
          "start_time": "2021-02-16T20:00:33.855917",
          "status": "completed"
        },
        "tags": [],
        "colab": {
          "base_uri": "https://localhost:8080/"
        },
        "id": "c306kxTjynAl",
        "outputId": "b3ce1c28-0d33-4ceb-f69e-2275c471bbdb"
      },
      "outputs": [
        {
          "output_type": "stream",
          "name": "stdout",
          "text": [
            "3/3 [==============================] - 0s 3ms/step - loss: 0.1436 - accuracy: 0.9545\n"
          ]
        },
        {
          "output_type": "execute_result",
          "data": {
            "text/plain": [
              "[0.1436426043510437, 0.9545454382896423]"
            ]
          },
          "metadata": {},
          "execution_count": 29
        }
      ],
      "source": [
        "model_2.evaluate(X_test, y_test)"
      ]
    },
    {
      "cell_type": "code",
      "execution_count": 29,
      "metadata": {
        "papermill": {
          "duration": 0.148396,
          "end_time": "2021-02-16T20:00:34.357988",
          "exception": false,
          "start_time": "2021-02-16T20:00:34.209592",
          "status": "completed"
        },
        "tags": [],
        "id": "zGrb4F4xynAl"
      },
      "outputs": [],
      "source": [
        ""
      ]
    },
    {
      "cell_type": "code",
      "execution_count": 29,
      "metadata": {
        "papermill": {
          "duration": 0.146197,
          "end_time": "2021-02-16T20:00:34.651644",
          "exception": false,
          "start_time": "2021-02-16T20:00:34.505447",
          "status": "completed"
        },
        "tags": [],
        "id": "JwC3fUy7ynAl"
      },
      "outputs": [],
      "source": [
        ""
      ]
    },
    {
      "cell_type": "code",
      "execution_count": 29,
      "metadata": {
        "papermill": {
          "duration": 0.146009,
          "end_time": "2021-02-16T20:00:34.940615",
          "exception": false,
          "start_time": "2021-02-16T20:00:34.794606",
          "status": "completed"
        },
        "tags": [],
        "id": "log6QdrlynAm"
      },
      "outputs": [],
      "source": [
        ""
      ]
    },
    {
      "cell_type": "code",
      "execution_count": 29,
      "metadata": {
        "papermill": {
          "duration": 0.141569,
          "end_time": "2021-02-16T20:00:35.225628",
          "exception": false,
          "start_time": "2021-02-16T20:00:35.084059",
          "status": "completed"
        },
        "tags": [],
        "id": "eiqPCYyaynAm"
      },
      "outputs": [],
      "source": [
        ""
      ]
    },
    {
      "cell_type": "code",
      "execution_count": 29,
      "metadata": {
        "papermill": {
          "duration": 0.141669,
          "end_time": "2021-02-16T20:00:35.508930",
          "exception": false,
          "start_time": "2021-02-16T20:00:35.367261",
          "status": "completed"
        },
        "tags": [],
        "id": "amcDY3ytynAm"
      },
      "outputs": [],
      "source": [
        ""
      ]
    }
  ],
  "metadata": {
    "kernelspec": {
      "display_name": "Python 3",
      "language": "python",
      "name": "python3"
    },
    "language_info": {
      "codemirror_mode": {
        "name": "ipython",
        "version": 3
      },
      "file_extension": ".py",
      "mimetype": "text/x-python",
      "name": "python",
      "nbconvert_exporter": "python",
      "pygments_lexer": "ipython3",
      "version": "3.7.9"
    },
    "papermill": {
      "default_parameters": {},
      "duration": 35.07561,
      "end_time": "2021-02-16T20:00:36.763953",
      "environment_variables": {},
      "exception": null,
      "input_path": "__notebook__.ipynb",
      "output_path": "__notebook__.ipynb",
      "parameters": {},
      "start_time": "2021-02-16T20:00:01.688343",
      "version": "2.2.2"
    },
    "colab": {
      "name": "02. drug-classification-rf-nn.ipynb",
      "provenance": [],
      "collapsed_sections": [
        "fIXXDpqaynAc",
        "YEH1aDrqynAg",
        "Vv5ZJSk3ynAi"
      ]
    }
  },
  "nbformat": 4,
  "nbformat_minor": 0
}
